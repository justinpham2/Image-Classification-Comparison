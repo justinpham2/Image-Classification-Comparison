{
  "nbformat": 4,
  "nbformat_minor": 0,
  "metadata": {
    "colab": {
      "provenance": [],
      "machine_shape": "hm"
    },
    "kernelspec": {
      "name": "python3",
      "display_name": "Python 3"
    },
    "language_info": {
      "name": "python"
    },
    "accelerator": "GPU",
    "gpuClass": "premium"
  },
  "cells": [
    {
      "cell_type": "markdown",
      "source": [
        "# Setup"
      ],
      "metadata": {
        "id": "ZsyswipcKiZk"
      }
    },
    {
      "cell_type": "code",
      "execution_count": 1,
      "metadata": {
        "colab": {
          "base_uri": "https://localhost:8080/"
        },
        "id": "pRCdgwbvHQep",
        "outputId": "447ac156-68d8-452f-c75f-20926a401d83"
      },
      "outputs": [
        {
          "output_type": "stream",
          "name": "stdout",
          "text": [
            "Looking in indexes: https://pypi.org/simple, https://us-python.pkg.dev/colab-wheels/public/simple/\n",
            "Collecting opendatasets\n",
            "  Downloading opendatasets-0.1.22-py3-none-any.whl (15 kB)\n",
            "Requirement already satisfied: kaggle in /usr/local/lib/python3.10/dist-packages (from opendatasets) (1.5.13)\n",
            "Requirement already satisfied: tqdm in /usr/local/lib/python3.10/dist-packages (from opendatasets) (4.65.0)\n",
            "Requirement already satisfied: click in /usr/local/lib/python3.10/dist-packages (from opendatasets) (8.1.3)\n",
            "Requirement already satisfied: certifi in /usr/local/lib/python3.10/dist-packages (from kaggle->opendatasets) (2022.12.7)\n",
            "Requirement already satisfied: requests in /usr/local/lib/python3.10/dist-packages (from kaggle->opendatasets) (2.27.1)\n",
            "Requirement already satisfied: python-dateutil in /usr/local/lib/python3.10/dist-packages (from kaggle->opendatasets) (2.8.2)\n",
            "Requirement already satisfied: six>=1.10 in /usr/local/lib/python3.10/dist-packages (from kaggle->opendatasets) (1.16.0)\n",
            "Requirement already satisfied: python-slugify in /usr/local/lib/python3.10/dist-packages (from kaggle->opendatasets) (8.0.1)\n",
            "Requirement already satisfied: urllib3 in /usr/local/lib/python3.10/dist-packages (from kaggle->opendatasets) (1.26.15)\n",
            "Requirement already satisfied: text-unidecode>=1.3 in /usr/local/lib/python3.10/dist-packages (from python-slugify->kaggle->opendatasets) (1.3)\n",
            "Requirement already satisfied: charset-normalizer~=2.0.0 in /usr/local/lib/python3.10/dist-packages (from requests->kaggle->opendatasets) (2.0.12)\n",
            "Requirement already satisfied: idna<4,>=2.5 in /usr/local/lib/python3.10/dist-packages (from requests->kaggle->opendatasets) (3.4)\n",
            "Installing collected packages: opendatasets\n",
            "Successfully installed opendatasets-0.1.22\n"
          ]
        }
      ],
      "source": [
        "!pip install opendatasets\n",
        "!cp -r /content/drive/MyDrive/DATA4380-project/datasetload.py /content/datasetload.py"
      ]
    },
    {
      "cell_type": "code",
      "source": [
        "import datasetload\n",
        "import opendatasets as od\n",
        "import PIL\n",
        "import glob\n",
        "import numpy as np\n",
        "import sklearn\n",
        "import tensorflow as tf\n",
        "from tensorflow import keras\n",
        "import os\n",
        "import cv2\n",
        "import matplotlib.pyplot as plt\n",
        "from tqdm.notebook import tqdm\n",
        "import seaborn as sns\n",
        "import pandas as pd\n",
        "from sklearn.model_selection import train_test_split\n",
        "from keras.models import Sequential, Model\n",
        "from keras.layers import Dense, Conv2D, MaxPool2D , Flatten, Dropout, BatchNormalization, AveragePooling2D, GlobalAveragePooling2D, Activation, concatenate\n",
        "from keras.preprocessing.image import ImageDataGenerator\n",
        "from keras.optimizers import Adam"
      ],
      "metadata": {
        "id": "2EZT4BTrMGEx"
      },
      "execution_count": 2,
      "outputs": []
    },
    {
      "cell_type": "code",
      "source": [
        "def vgg_model(IMAGE_SIZE = (227,227,3), DENSE_N_NEURONS = 3):\n",
        "\n",
        "    #Based on model from https://towardsdatascience.com/step-by-step-vgg16-implementation-in-keras-for-beginners-a833c686ae6c\n",
        "\n",
        "    model = Sequential([\n",
        "        Conv2D(input_shape = IMAGE_SIZE, filters=16,kernel_size=(3,3),padding=\"same\", activation=\"relu\"),\n",
        "        Conv2D(filters=16,kernel_size=(3,3),padding=\"same\", activation=\"relu\"),\n",
        "        MaxPool2D(pool_size=(2,2),strides=(2,2)),\n",
        "        Conv2D(filters=32, kernel_size=(3,3), padding=\"same\", activation=\"relu\"),\n",
        "        Conv2D(filters=32, kernel_size=(3,3), padding=\"same\", activation=\"relu\"),\n",
        "        MaxPool2D(pool_size=(2,2),strides=(2,2)),\n",
        "        Conv2D(filters=64, kernel_size=(3,3), padding=\"same\", activation=\"relu\"),\n",
        "        Conv2D(filters=64, kernel_size=(3,3), padding=\"same\", activation=\"relu\"),\n",
        "        Conv2D(filters=64, kernel_size=(3,3), padding=\"same\", activation=\"relu\"),\n",
        "        MaxPool2D(pool_size=(2,2),strides=(2,2)),\n",
        "        Conv2D(filters=128, kernel_size=(3,3), padding=\"same\", activation=\"relu\"),\n",
        "        Conv2D(filters=128, kernel_size=(3,3), padding=\"same\", activation=\"relu\"),\n",
        "        Conv2D(filters=128, kernel_size=(3,3), padding=\"same\", activation=\"relu\"),\n",
        "        MaxPool2D(pool_size=(2,2),strides=(2,2)),\n",
        "        Conv2D(filters=256, kernel_size=(3,3), padding=\"same\", activation=\"relu\"),\n",
        "        Conv2D(filters=256, kernel_size=(3,3), padding=\"same\", activation=\"relu\"),\n",
        "        Conv2D(filters=256, kernel_size=(3,3), padding=\"same\", activation=\"relu\"),\n",
        "        MaxPool2D(pool_size=(2,2),strides=(2,2)),\n",
        "        Flatten(),\n",
        "        Dense(units=2048,activation=\"relu\"),\n",
        "        Dense(units=4096,activation=\"relu\"),\n",
        "        Dense(units=512, activation=\"relu\"),\n",
        "        Dense(units=256, activation=\"relu\"),\n",
        "        Dense(units=120, activation=\"relu\"),\n",
        "        Dense(units=24, activation=\"relu\"),\n",
        "        Dense(DENSE_N_NEURONS, activation=\"softmax\"),\n",
        "        ])\n",
        "        \n",
        "    model.compile(loss='categorical_crossentropy', optimizer=Adam(learning_rate=0.001), metrics=['accuracy'])\n",
        "    \n",
        "    return model"
      ],
      "metadata": {
        "id": "Hl_pwcikiVCo"
      },
      "execution_count": 3,
      "outputs": []
    },
    {
      "cell_type": "markdown",
      "source": [
        "# Model 1: Rock Paper Scissors"
      ],
      "metadata": {
        "id": "-k7TkmrAUBIZ"
      }
    },
    {
      "cell_type": "code",
      "source": [
        "image_train, label_train, image_test, label_test = datasetload.fetch_rps(shuffle = True, random_state = 732, train_size = 0.85)"
      ],
      "metadata": {
        "colab": {
          "base_uri": "https://localhost:8080/"
        },
        "id": "1xJ2tcJ8T__i",
        "outputId": "7dbc9282-608c-4255-e61a-afc39b5fe2c1"
      },
      "execution_count": 3,
      "outputs": [
        {
          "output_type": "stream",
          "name": "stdout",
          "text": [
            "Drive already mounted at /content/drive/; to attempt to forcibly remount, call drive.mount(\"/content/drive/\", force_remount=True).\n"
          ]
        }
      ]
    },
    {
      "cell_type": "code",
      "source": [
        "model1 = datasetload.vgg_model((200,300,3))"
      ],
      "metadata": {
        "id": "enLPaEvIl6c8"
      },
      "execution_count": 4,
      "outputs": []
    },
    {
      "cell_type": "code",
      "source": [
        "model1.summary()"
      ],
      "metadata": {
        "colab": {
          "base_uri": "https://localhost:8080/"
        },
        "id": "KRc9xCKemFtO",
        "outputId": "f7305238-4f3c-4db1-8845-8ba9fb836c77"
      },
      "execution_count": 5,
      "outputs": [
        {
          "output_type": "stream",
          "name": "stdout",
          "text": [
            "Model: \"sequential\"\n",
            "_________________________________________________________________\n",
            " Layer (type)                Output Shape              Param #   \n",
            "=================================================================\n",
            " conv2d (Conv2D)             (None, 200, 300, 16)      448       \n",
            "                                                                 \n",
            " conv2d_1 (Conv2D)           (None, 200, 300, 16)      2320      \n",
            "                                                                 \n",
            " max_pooling2d (MaxPooling2D  (None, 100, 150, 16)     0         \n",
            " )                                                               \n",
            "                                                                 \n",
            " conv2d_2 (Conv2D)           (None, 100, 150, 32)      4640      \n",
            "                                                                 \n",
            " conv2d_3 (Conv2D)           (None, 100, 150, 32)      9248      \n",
            "                                                                 \n",
            " max_pooling2d_1 (MaxPooling  (None, 50, 75, 32)       0         \n",
            " 2D)                                                             \n",
            "                                                                 \n",
            " conv2d_4 (Conv2D)           (None, 50, 75, 64)        18496     \n",
            "                                                                 \n",
            " conv2d_5 (Conv2D)           (None, 50, 75, 64)        36928     \n",
            "                                                                 \n",
            " conv2d_6 (Conv2D)           (None, 50, 75, 64)        36928     \n",
            "                                                                 \n",
            " max_pooling2d_2 (MaxPooling  (None, 25, 37, 64)       0         \n",
            " 2D)                                                             \n",
            "                                                                 \n",
            " conv2d_7 (Conv2D)           (None, 25, 37, 128)       73856     \n",
            "                                                                 \n",
            " conv2d_8 (Conv2D)           (None, 25, 37, 128)       147584    \n",
            "                                                                 \n",
            " conv2d_9 (Conv2D)           (None, 25, 37, 128)       147584    \n",
            "                                                                 \n",
            " max_pooling2d_3 (MaxPooling  (None, 12, 18, 128)      0         \n",
            " 2D)                                                             \n",
            "                                                                 \n",
            " conv2d_10 (Conv2D)          (None, 12, 18, 256)       295168    \n",
            "                                                                 \n",
            " conv2d_11 (Conv2D)          (None, 12, 18, 256)       590080    \n",
            "                                                                 \n",
            " conv2d_12 (Conv2D)          (None, 12, 18, 256)       590080    \n",
            "                                                                 \n",
            " max_pooling2d_4 (MaxPooling  (None, 6, 9, 256)        0         \n",
            " 2D)                                                             \n",
            "                                                                 \n",
            " flatten (Flatten)           (None, 13824)             0         \n",
            "                                                                 \n",
            " dense (Dense)               (None, 2048)              28313600  \n",
            "                                                                 \n",
            " dense_1 (Dense)             (None, 4096)              8392704   \n",
            "                                                                 \n",
            " dense_2 (Dense)             (None, 512)               2097664   \n",
            "                                                                 \n",
            " dense_3 (Dense)             (None, 256)               131328    \n",
            "                                                                 \n",
            " dense_4 (Dense)             (None, 120)               30840     \n",
            "                                                                 \n",
            " dense_5 (Dense)             (None, 24)                2904      \n",
            "                                                                 \n",
            " dense_6 (Dense)             (None, 3)                 75        \n",
            "                                                                 \n",
            "=================================================================\n",
            "Total params: 40,922,475\n",
            "Trainable params: 40,922,475\n",
            "Non-trainable params: 0\n",
            "_________________________________________________________________\n"
          ]
        }
      ]
    },
    {
      "cell_type": "code",
      "source": [
        "history = model1.fit(image_train, label_train, epochs = 20)"
      ],
      "metadata": {
        "colab": {
          "base_uri": "https://localhost:8080/"
        },
        "id": "6P85JNLIcOvV",
        "outputId": "49c47039-7350-4a90-9831-98ebc0cbee9c"
      },
      "execution_count": 14,
      "outputs": [
        {
          "output_type": "stream",
          "name": "stdout",
          "text": [
            "Epoch 1/20\n",
            "59/59 [==============================] - 1s 23ms/step - loss: 1.0985 - accuracy: 0.3437\n",
            "Epoch 2/20\n",
            "59/59 [==============================] - 1s 23ms/step - loss: 1.0985 - accuracy: 0.3437\n",
            "Epoch 3/20\n",
            "59/59 [==============================] - 1s 23ms/step - loss: 1.0985 - accuracy: 0.3437\n",
            "Epoch 4/20\n",
            "59/59 [==============================] - 1s 23ms/step - loss: 1.0984 - accuracy: 0.3437\n",
            "Epoch 5/20\n",
            "59/59 [==============================] - 1s 23ms/step - loss: 1.0984 - accuracy: 0.3437\n",
            "Epoch 6/20\n",
            "59/59 [==============================] - 1s 23ms/step - loss: 1.0984 - accuracy: 0.3437\n",
            "Epoch 7/20\n",
            "59/59 [==============================] - 1s 23ms/step - loss: 1.0984 - accuracy: 0.3437\n",
            "Epoch 8/20\n",
            "59/59 [==============================] - 1s 23ms/step - loss: 1.0984 - accuracy: 0.3437\n",
            "Epoch 9/20\n",
            "59/59 [==============================] - 1s 23ms/step - loss: 1.0984 - accuracy: 0.3437\n",
            "Epoch 10/20\n",
            "59/59 [==============================] - 1s 23ms/step - loss: 1.0984 - accuracy: 0.3437\n",
            "Epoch 11/20\n",
            "59/59 [==============================] - 1s 23ms/step - loss: 1.0984 - accuracy: 0.3437\n",
            "Epoch 12/20\n",
            "59/59 [==============================] - 1s 23ms/step - loss: 1.0984 - accuracy: 0.3437\n",
            "Epoch 13/20\n",
            "59/59 [==============================] - 1s 23ms/step - loss: 1.0984 - accuracy: 0.3437\n",
            "Epoch 14/20\n",
            "59/59 [==============================] - 1s 23ms/step - loss: 1.0983 - accuracy: 0.3437\n",
            "Epoch 15/20\n",
            "59/59 [==============================] - 1s 22ms/step - loss: 1.0984 - accuracy: 0.3437\n",
            "Epoch 16/20\n",
            "59/59 [==============================] - 1s 23ms/step - loss: 1.0984 - accuracy: 0.3437\n",
            "Epoch 17/20\n",
            "59/59 [==============================] - 1s 23ms/step - loss: 1.0984 - accuracy: 0.3437\n",
            "Epoch 18/20\n",
            "59/59 [==============================] - 1s 22ms/step - loss: 1.0984 - accuracy: 0.3437\n",
            "Epoch 19/20\n",
            "59/59 [==============================] - 1s 23ms/step - loss: 1.0984 - accuracy: 0.3437\n",
            "Epoch 20/20\n",
            "59/59 [==============================] - 1s 23ms/step - loss: 1.0984 - accuracy: 0.3437\n"
          ]
        }
      ]
    },
    {
      "cell_type": "code",
      "source": [
        "history.history"
      ],
      "metadata": {
        "colab": {
          "base_uri": "https://localhost:8080/"
        },
        "id": "NvhZkDnDWzJO",
        "outputId": "713bbec9-7eed-4eea-ca6e-79b20319cac6"
      },
      "execution_count": 15,
      "outputs": [
        {
          "output_type": "execute_result",
          "data": {
            "text/plain": [
              "{'loss': [1.0984543561935425,\n",
              "  1.0985249280929565,\n",
              "  1.0984938144683838,\n",
              "  1.0984007120132446,\n",
              "  1.0983591079711914,\n",
              "  1.0983883142471313,\n",
              "  1.0983774662017822,\n",
              "  1.0983997583389282,\n",
              "  1.0984084606170654,\n",
              "  1.0984089374542236,\n",
              "  1.0984439849853516,\n",
              "  1.098408818244934,\n",
              "  1.0983645915985107,\n",
              "  1.098333477973938,\n",
              "  1.098388433456421,\n",
              "  1.0984035730361938,\n",
              "  1.0984033346176147,\n",
              "  1.0983656644821167,\n",
              "  1.0983507633209229,\n",
              "  1.0984245538711548],\n",
              " 'accuracy': [0.34373319149017334,\n",
              "  0.34373319149017334,\n",
              "  0.34373319149017334,\n",
              "  0.34373319149017334,\n",
              "  0.34373319149017334,\n",
              "  0.34373319149017334,\n",
              "  0.34373319149017334,\n",
              "  0.34373319149017334,\n",
              "  0.34373319149017334,\n",
              "  0.34373319149017334,\n",
              "  0.34373319149017334,\n",
              "  0.34373319149017334,\n",
              "  0.34373319149017334,\n",
              "  0.34373319149017334,\n",
              "  0.34373319149017334,\n",
              "  0.34373319149017334,\n",
              "  0.34373319149017334,\n",
              "  0.34373319149017334,\n",
              "  0.34373319149017334,\n",
              "  0.34373319149017334]}"
            ]
          },
          "metadata": {},
          "execution_count": 15
        }
      ]
    },
    {
      "cell_type": "code",
      "source": [
        "import matplotlib.pyplot as plt\n",
        "\n",
        "plt.plot(history.history['loss'])\n",
        "plt.title(\"Loss for RPS\")\n",
        "plt.xlabel(\"Epochs\")\n",
        "plt.ylabel(\"Loss\")\n",
        "plt.show()"
      ],
      "metadata": {
        "colab": {
          "base_uri": "https://localhost:8080/",
          "height": 472
        },
        "id": "ku29WK1sZ6W2",
        "outputId": "ef948d0d-01c5-4a79-bf56-763815b9e077"
      },
      "execution_count": 45,
      "outputs": [
        {
          "output_type": "display_data",
          "data": {
            "text/plain": [
              "<Figure size 640x480 with 1 Axes>"
            ],
            "image/png": "[encoded data removed]"
          },
          "metadata": {}
        }
      ]
    },
    {
      "cell_type": "code",
      "source": [
        "scores = model1.evaluate(image_test, label_test)\n",
        "print(scores)"
      ],
      "metadata": {
        "colab": {
          "base_uri": "https://localhost:8080/"
        },
        "id": "KxUJZRd5QwAW",
        "outputId": "eb9d8c67-447e-489d-b728-f1005c37766a"
      },
      "execution_count": 16,
      "outputs": [
        {
          "output_type": "stream",
          "name": "stdout",
          "text": [
            "11/11 [==============================] - 0s 13ms/step - loss: 1.0993 - accuracy: 0.3374\n",
            "[1.0992664098739624, 0.33738601207733154]\n"
          ]
        }
      ]
    },
    {
      "cell_type": "code",
      "source": [
        "from sklearn.metrics import precision_score, f1_score, recall_score\n",
        "\n",
        "y_pred = model1.predict(image_test)\n",
        "\n",
        "y_pred_classes = np.argmax(y_pred, axis=1)\n",
        "label_test_classes = np.argmax(label_test, axis = 1)\n",
        "\n",
        "accuracy = scores[1]\n",
        "type(accuracy)\n",
        "\n",
        "precision = precision_score(label_test_classes, y_pred_classes, average='weighted')\n",
        "f1 = f1_score(label_test_classes, y_pred_classes, average='weighted')\n",
        "recall = recall_score(label_test_classes, y_pred_classes, average='weighted')\n",
        "\n",
        "headers = [\"Metric\", \"Value\"]\n",
        "\n",
        "data = {\n",
        "    \"Metric\": [\"Accuracy\", \"Precision\",\"Recall\",\"F1\"],\n",
        "    \"Value\": [accuracy, precision, recall, f1]\n",
        "}"
      ],
      "metadata": {
        "colab": {
          "base_uri": "https://localhost:8080/"
        },
        "id": "SgAE1sPjVyt3",
        "outputId": "07e5ef30-8883-434e-b9fa-1e47c1621d47"
      },
      "execution_count": 51,
      "outputs": [
        {
          "output_type": "stream",
          "name": "stdout",
          "text": [
            "11/11 [==============================] - 0s 12ms/step\n"
          ]
        },
        {
          "output_type": "stream",
          "name": "stderr",
          "text": [
            "/usr/local/lib/python3.10/dist-packages/sklearn/metrics/_classification.py:1344: UndefinedMetricWarning: Precision is ill-defined and being set to 0.0 in labels with no predicted samples. Use `zero_division` parameter to control this behavior.\n",
            "  _warn_prf(average, modifier, msg_start, len(result))\n"
          ]
        }
      ]
    },
    {
      "cell_type": "code",
      "source": [
        "pd.DataFrame(data).set_index(\"Metric\")"
      ],
      "metadata": {
        "colab": {
          "base_uri": "https://localhost:8080/",
          "height": 206
        },
        "id": "BxqkImf2Zwir",
        "outputId": "48e9badc-4d6c-4e3a-b8cc-49a1ec4897cb"
      },
      "execution_count": 57,
      "outputs": [
        {
          "output_type": "execute_result",
          "data": {
            "text/plain": [
              "              Value\n",
              "Metric             \n",
              "Accuracy   0.337386\n",
              "Precision  0.113829\n",
              "Recall     0.337386\n",
              "F1         0.170227"
            ],
            "text/html": [
              "\n",
              "  <div id=\"df-d0252060-78b4-4d46-8899-a48a9c03e498\">\n",
              "    <div class=\"colab-df-container\">\n",
              "      <div>\n",
              "<style scoped>\n",
              "    .dataframe tbody tr th:only-of-type {\n",
              "        vertical-align: middle;\n",
              "    }\n",
              "\n",
              "    .dataframe tbody tr th {\n",
              "        vertical-align: top;\n",
              "    }\n",
              "\n",
              "    .dataframe thead th {\n",
              "        text-align: right;\n",
              "    }\n",
              "</style>\n",
              "<table border=\"1\" class=\"dataframe\">\n",
              "  <thead>\n",
              "    <tr style=\"text-align: right;\">\n",
              "      <th></th>\n",
              "      <th>Value</th>\n",
              "    </tr>\n",
              "    <tr>\n",
              "      <th>Metric</th>\n",
              "      <th></th>\n",
              "    </tr>\n",
              "  </thead>\n",
              "  <tbody>\n",
              "    <tr>\n",
              "      <th>Accuracy</th>\n",
              "      <td>0.337386</td>\n",
              "    </tr>\n",
              "    <tr>\n",
              "      <th>Precision</th>\n",
              "      <td>0.113829</td>\n",
              "    </tr>\n",
              "    <tr>\n",
              "      <th>Recall</th>\n",
              "      <td>0.337386</td>\n",
              "    </tr>\n",
              "    <tr>\n",
              "      <th>F1</th>\n",
              "      <td>0.170227</td>\n",
              "    </tr>\n",
              "  </tbody>\n",
              "</table>\n",
              "</div>\n",
              "      <button class=\"colab-df-convert\" onclick=\"convertToInteractive('df-d0252060-78b4-4d46-8899-a48a9c03e498')\"\n",
              "              title=\"Convert this dataframe to an interactive table.\"\n",
              "              style=\"display:none;\">\n",
              "        \n",
              "  <svg xmlns=\"http://www.w3.org/2000/svg\" height=\"24px\"viewBox=\"0 0 24 24\"\n",
              "       width=\"24px\">\n",
              "    <path d=\"M0 0h24v24H0V0z\" fill=\"none\"/>\n",
              "    <path d=\"M18.56 5.44l.94 2.06.94-2.06 2.06-.94-2.06-.94-.94-2.06-.94 2.06-2.06.94zm-11 1L8.5 8.5l.94-2.06 2.06-.94-2.06-.94L8.5 2.5l-.94 2.06-2.06.94zm10 10l.94 2.06.94-2.06 2.06-.94-2.06-.94-.94-2.06-.94 2.06-2.06.94z\"/><path d=\"M17.41 7.96l-1.37-1.37c-.4-.4-.92-.59-1.43-.59-.52 0-1.04.2-1.43.59L10.3 9.45l-7.72 7.72c-.78.78-.78 2.05 0 2.83L4 21.41c.39.39.9.59 1.41.59.51 0 1.02-.2 1.41-.59l7.78-7.78 2.81-2.81c.8-.78.8-2.07 0-2.86zM5.41 20L4 18.59l7.72-7.72 1.47 1.35L5.41 20z\"/>\n",
              "  </svg>\n",
              "      </button>\n",
              "      \n",
              "  <style>\n",
              "    .colab-df-container {\n",
              "      display:flex;\n",
              "      flex-wrap:wrap;\n",
              "      gap: 12px;\n",
              "    }\n",
              "\n",
              "    .colab-df-convert {\n",
              "      background-color: #E8F0FE;\n",
              "      border: none;\n",
              "      border-radius: 50%;\n",
              "      cursor: pointer;\n",
              "      display: none;\n",
              "      fill: #1967D2;\n",
              "      height: 32px;\n",
              "      padding: 0 0 0 0;\n",
              "      width: 32px;\n",
              "    }\n",
              "\n",
              "    .colab-df-convert:hover {\n",
              "      background-color: #E2EBFA;\n",
              "      box-shadow: 0px 1px 2px rgba(60, 64, 67, 0.3), 0px 1px 3px 1px rgba(60, 64, 67, 0.15);\n",
              "      fill: #174EA6;\n",
              "    }\n",
              "\n",
              "    [theme=dark] .colab-df-convert {\n",
              "      background-color: #3B4455;\n",
              "      fill: #D2E3FC;\n",
              "    }\n",
              "\n",
              "    [theme=dark] .colab-df-convert:hover {\n",
              "      background-color: #434B5C;\n",
              "      box-shadow: 0px 1px 3px 1px rgba(0, 0, 0, 0.15);\n",
              "      filter: drop-shadow(0px 1px 2px rgba(0, 0, 0, 0.3));\n",
              "      fill: #FFFFFF;\n",
              "    }\n",
              "  </style>\n",
              "\n",
              "      <script>\n",
              "        const buttonEl =\n",
              "          document.querySelector('#df-d0252060-78b4-4d46-8899-a48a9c03e498 button.colab-df-convert');\n",
              "        buttonEl.style.display =\n",
              "          google.colab.kernel.accessAllowed ? 'block' : 'none';\n",
              "\n",
              "        async function convertToInteractive(key) {\n",
              "          const element = document.querySelector('#df-d0252060-78b4-4d46-8899-a48a9c03e498');\n",
              "          const dataTable =\n",
              "            await google.colab.kernel.invokeFunction('convertToInteractive',\n",
              "                                                     [key], {});\n",
              "          if (!dataTable) return;\n",
              "\n",
              "          const docLinkHtml = 'Like what you see? Visit the ' +\n",
              "            '<a target=\"_blank\" href=https://colab.research.google.com/notebooks/data_table.ipynb>data table notebook</a>'\n",
              "            + ' to learn more about interactive tables.';\n",
              "          element.innerHTML = '';\n",
              "          dataTable['output_type'] = 'display_data';\n",
              "          await google.colab.output.renderOutput(dataTable, element);\n",
              "          const docLink = document.createElement('div');\n",
              "          docLink.innerHTML = docLinkHtml;\n",
              "          element.appendChild(docLink);\n",
              "        }\n",
              "      </script>\n",
              "    </div>\n",
              "  </div>\n",
              "  "
            ]
          },
          "metadata": {},
          "execution_count": 57
        }
      ]
    },
    {
      "cell_type": "markdown",
      "source": [
        "# Model 2: Nature"
      ],
      "metadata": {
        "id": "631Z7GVdxFGB"
      }
    },
    {
      "cell_type": "code",
      "source": [
        "image_train, label_train, image_test, label_test = datasetload.fetch_nature()"
      ],
      "metadata": {
        "colab": {
          "base_uri": "https://localhost:8080/"
        },
        "id": "zOVBH0vmw0M9",
        "outputId": "8dfff8bb-051c-4c57-a3ec-4169eeca826d"
      },
      "execution_count": 4,
      "outputs": [
        {
          "output_type": "stream",
          "name": "stdout",
          "text": [
            "Drive already mounted at /content/drive/; to attempt to forcibly remount, call drive.mount(\"/content/drive/\", force_remount=True).\n"
          ]
        }
      ]
    },
    {
      "cell_type": "code",
      "source": [
        "image_train[0].shape"
      ],
      "metadata": {
        "colab": {
          "base_uri": "https://localhost:8080/"
        },
        "id": "7lWb7gF90wnE",
        "outputId": "8f9e8a37-0920-4a3c-a15c-d2ea162b13ee"
      },
      "execution_count": 5,
      "outputs": [
        {
          "output_type": "execute_result",
          "data": {
            "text/plain": [
              "(227, 227, 3)"
            ]
          },
          "metadata": {},
          "execution_count": 5
        }
      ]
    },
    {
      "cell_type": "code",
      "source": [
        "model2 = vgg_model((227,227,3), 6)"
      ],
      "metadata": {
        "id": "uii08MRR0zYc"
      },
      "execution_count": 6,
      "outputs": []
    },
    {
      "cell_type": "code",
      "source": [
        "model2.summary()"
      ],
      "metadata": {
        "colab": {
          "base_uri": "https://localhost:8080/"
        },
        "id": "6q8nVYNe05Ca",
        "outputId": "21c79832-8721-4b45-cb70-10b0ff8c2f20"
      },
      "execution_count": 7,
      "outputs": [
        {
          "output_type": "stream",
          "name": "stdout",
          "text": [
            "Model: \"sequential\"\n",
            "_________________________________________________________________\n",
            " Layer (type)                Output Shape              Param #   \n",
            "=================================================================\n",
            " conv2d (Conv2D)             (None, 227, 227, 16)      448       \n",
            "                                                                 \n",
            " conv2d_1 (Conv2D)           (None, 227, 227, 16)      2320      \n",
            "                                                                 \n",
            " max_pooling2d (MaxPooling2D  (None, 113, 113, 16)     0         \n",
            " )                                                               \n",
            "                                                                 \n",
            " conv2d_2 (Conv2D)           (None, 113, 113, 32)      4640      \n",
            "                                                                 \n",
            " conv2d_3 (Conv2D)           (None, 113, 113, 32)      9248      \n",
            "                                                                 \n",
            " max_pooling2d_1 (MaxPooling  (None, 56, 56, 32)       0         \n",
            " 2D)                                                             \n",
            "                                                                 \n",
            " conv2d_4 (Conv2D)           (None, 56, 56, 64)        18496     \n",
            "                                                                 \n",
            " conv2d_5 (Conv2D)           (None, 56, 56, 64)        36928     \n",
            "                                                                 \n",
            " conv2d_6 (Conv2D)           (None, 56, 56, 64)        36928     \n",
            "                                                                 \n",
            " max_pooling2d_2 (MaxPooling  (None, 28, 28, 64)       0         \n",
            " 2D)                                                             \n",
            "                                                                 \n",
            " conv2d_7 (Conv2D)           (None, 28, 28, 128)       73856     \n",
            "                                                                 \n",
            " conv2d_8 (Conv2D)           (None, 28, 28, 128)       147584    \n",
            "                                                                 \n",
            " conv2d_9 (Conv2D)           (None, 28, 28, 128)       147584    \n",
            "                                                                 \n",
            " max_pooling2d_3 (MaxPooling  (None, 14, 14, 128)      0         \n",
            " 2D)                                                             \n",
            "                                                                 \n",
            " conv2d_10 (Conv2D)          (None, 14, 14, 256)       295168    \n",
            "                                                                 \n",
            " conv2d_11 (Conv2D)          (None, 14, 14, 256)       590080    \n",
            "                                                                 \n",
            " conv2d_12 (Conv2D)          (None, 14, 14, 256)       590080    \n",
            "                                                                 \n",
            " max_pooling2d_4 (MaxPooling  (None, 7, 7, 256)        0         \n",
            " 2D)                                                             \n",
            "                                                                 \n",
            " flatten (Flatten)           (None, 12544)             0         \n",
            "                                                                 \n",
            " dense (Dense)               (None, 2048)              25692160  \n",
            "                                                                 \n",
            " dense_1 (Dense)             (None, 4096)              8392704   \n",
            "                                                                 \n",
            " dense_2 (Dense)             (None, 512)               2097664   \n",
            "                                                                 \n",
            " dense_3 (Dense)             (None, 256)               131328    \n",
            "                                                                 \n",
            " dense_4 (Dense)             (None, 120)               30840     \n",
            "                                                                 \n",
            " dense_5 (Dense)             (None, 24)                2904      \n",
            "                                                                 \n",
            " dense_6 (Dense)             (None, 6)                 150       \n",
            "                                                                 \n",
            "=================================================================\n",
            "Total params: 38,301,110\n",
            "Trainable params: 38,301,110\n",
            "Non-trainable params: 0\n",
            "_________________________________________________________________\n"
          ]
        }
      ]
    },
    {
      "cell_type": "code",
      "source": [
        "history = model2.fit(image_train, label_train, epochs = 20)"
      ],
      "metadata": {
        "colab": {
          "base_uri": "https://localhost:8080/"
        },
        "id": "l7gaLTGt08dv",
        "outputId": "13dfdf65-8781-4b4b-df06-d4978f0a86d2"
      },
      "execution_count": 8,
      "outputs": [
        {
          "output_type": "stream",
          "name": "stdout",
          "text": [
            "Epoch 1/20\n",
            "439/439 [==============================] - 20s 22ms/step - loss: 1.7915 - accuracy: 0.1754\n",
            "Epoch 2/20\n",
            "439/439 [==============================] - 9s 20ms/step - loss: 1.7910 - accuracy: 0.1790\n",
            "Epoch 3/20\n",
            "439/439 [==============================] - 9s 20ms/step - loss: 1.7910 - accuracy: 0.1781\n",
            "Epoch 4/20\n",
            "439/439 [==============================] - 9s 20ms/step - loss: 1.7909 - accuracy: 0.1789\n",
            "Epoch 5/20\n",
            "439/439 [==============================] - 9s 20ms/step - loss: 1.7910 - accuracy: 0.1790\n",
            "Epoch 6/20\n",
            "439/439 [==============================] - 9s 20ms/step - loss: 1.7909 - accuracy: 0.1790\n",
            "Epoch 7/20\n",
            "439/439 [==============================] - 9s 20ms/step - loss: 1.7909 - accuracy: 0.1790\n",
            "Epoch 8/20\n",
            "439/439 [==============================] - 9s 20ms/step - loss: 1.7909 - accuracy: 0.1790\n",
            "Epoch 9/20\n",
            "439/439 [==============================] - 9s 20ms/step - loss: 1.7910 - accuracy: 0.1790\n",
            "Epoch 10/20\n",
            "439/439 [==============================] - 9s 20ms/step - loss: 1.7909 - accuracy: 0.1790\n",
            "Epoch 11/20\n",
            "439/439 [==============================] - 9s 20ms/step - loss: 1.7909 - accuracy: 0.1790\n",
            "Epoch 12/20\n",
            "439/439 [==============================] - 9s 20ms/step - loss: 1.7910 - accuracy: 0.1790\n",
            "Epoch 13/20\n",
            "439/439 [==============================] - 9s 20ms/step - loss: 1.7910 - accuracy: 0.1790\n",
            "Epoch 14/20\n",
            "439/439 [==============================] - 9s 20ms/step - loss: 1.7910 - accuracy: 0.1790\n",
            "Epoch 15/20\n",
            "439/439 [==============================] - 9s 20ms/step - loss: 1.7910 - accuracy: 0.1790\n",
            "Epoch 16/20\n",
            "439/439 [==============================] - 9s 20ms/step - loss: 1.7909 - accuracy: 0.1790\n",
            "Epoch 17/20\n",
            "439/439 [==============================] - 9s 20ms/step - loss: 1.7909 - accuracy: 0.1790\n",
            "Epoch 18/20\n",
            "439/439 [==============================] - 9s 20ms/step - loss: 1.7910 - accuracy: 0.1790\n",
            "Epoch 19/20\n",
            "439/439 [==============================] - 9s 20ms/step - loss: 1.7909 - accuracy: 0.1790\n",
            "Epoch 20/20\n",
            "439/439 [==============================] - 9s 20ms/step - loss: 1.7909 - accuracy: 0.1790\n"
          ]
        }
      ]
    },
    {
      "cell_type": "code",
      "source": [
        "history.history"
      ],
      "metadata": {
        "colab": {
          "base_uri": "https://localhost:8080/"
        },
        "id": "mrN6Ugfwc0KX",
        "outputId": "8819e505-97b4-4df6-cb76-e150f25d54da"
      },
      "execution_count": 9,
      "outputs": [
        {
          "output_type": "execute_result",
          "data": {
            "text/plain": [
              "{'loss': [1.7915085554122925,\n",
              "  1.7910329103469849,\n",
              "  1.7910223007202148,\n",
              "  1.790936827659607,\n",
              "  1.790972352027893,\n",
              "  1.7909456491470337,\n",
              "  1.7909475564956665,\n",
              "  1.79091477394104,\n",
              "  1.790977120399475,\n",
              "  1.7909340858459473,\n",
              "  1.790939211845398,\n",
              "  1.790953278541565,\n",
              "  1.7909690141677856,\n",
              "  1.790950059890747,\n",
              "  1.7909959554672241,\n",
              "  1.7909200191497803,\n",
              "  1.7909423112869263,\n",
              "  1.790982723236084,\n",
              "  1.7909311056137085,\n",
              "  1.7909324169158936],\n",
              " 'accuracy': [0.175359845161438,\n",
              "  0.17899386584758759,\n",
              "  0.17813880741596222,\n",
              "  0.1789226233959198,\n",
              "  0.17899386584758759,\n",
              "  0.17899386584758759,\n",
              "  0.17899386584758759,\n",
              "  0.17899386584758759,\n",
              "  0.17899386584758759,\n",
              "  0.17899386584758759,\n",
              "  0.17899386584758759,\n",
              "  0.17899386584758759,\n",
              "  0.17899386584758759,\n",
              "  0.17899386584758759,\n",
              "  0.17899386584758759,\n",
              "  0.17899386584758759,\n",
              "  0.17899386584758759,\n",
              "  0.17899386584758759,\n",
              "  0.17899386584758759,\n",
              "  0.17899386584758759]}"
            ]
          },
          "metadata": {},
          "execution_count": 9
        }
      ]
    },
    {
      "cell_type": "code",
      "source": [
        "plt.plot(history.history['loss'])\n",
        "plt.title(\"Loss for Nature\")\n",
        "plt.xlabel(\"Epochs\")\n",
        "plt.ylabel(\"Loss\")\n",
        "plt.show()"
      ],
      "metadata": {
        "colab": {
          "base_uri": "https://localhost:8080/",
          "height": 472
        },
        "id": "FsUaYG1Xc1Lt",
        "outputId": "41438644-9d4d-4fab-e56d-445fbed0e2d2"
      },
      "execution_count": 10,
      "outputs": [
        {
          "output_type": "display_data",
          "data": {
            "text/plain": [
              "<Figure size 640x480 with 1 Axes>"
            ],
            "image/png": "[encoded data removed]"
          },
          "metadata": {}
        }
      ]
    },
    {
      "cell_type": "code",
      "source": [
        "scores = model2.evaluate(image_test, label_test)\n",
        "print(scores)"
      ],
      "metadata": {
        "colab": {
          "base_uri": "https://localhost:8080/"
        },
        "id": "G_MXrGPnc6fe",
        "outputId": "19e934b1-1bba-4f43-f5fc-bc3d738f8318"
      },
      "execution_count": 11,
      "outputs": [
        {
          "output_type": "stream",
          "name": "stdout",
          "text": [
            "94/94 [==============================] - 2s 15ms/step - loss: 1.7902 - accuracy: 0.1750\n",
            "[1.7902346849441528, 0.17499999701976776]\n"
          ]
        }
      ]
    },
    {
      "cell_type": "code",
      "source": [
        "from sklearn.metrics import precision_score, f1_score, recall_score\n",
        "\n",
        "y_pred = model2.predict(image_test)\n",
        "\n",
        "y_pred_classes = np.argmax(y_pred, axis=1)\n",
        "label_test_classes = np.argmax(label_test, axis = 1)\n",
        "\n",
        "accuracy = scores[1]\n",
        "type(accuracy)\n",
        "\n",
        "precision = precision_score(label_test_classes, y_pred_classes, average='weighted')\n",
        "f1 = f1_score(label_test_classes, y_pred_classes, average='weighted')\n",
        "recall = recall_score(label_test_classes, y_pred_classes, average='weighted')\n",
        "\n",
        "headers = [\"Metric\", \"Value\"]\n",
        "\n",
        "data = {\n",
        "    \"Metric\": [\"Accuracy\", \"Precision\",\"Recall\",\"F1\"],\n",
        "    \"Value\": [accuracy, precision, recall, f1]\n",
        "}"
      ],
      "metadata": {
        "colab": {
          "base_uri": "https://localhost:8080/"
        },
        "id": "rPIWyueqc95g",
        "outputId": "30857011-1417-4edf-c337-c003bb9c82be"
      },
      "execution_count": 12,
      "outputs": [
        {
          "output_type": "stream",
          "name": "stdout",
          "text": [
            "94/94 [==============================] - 1s 10ms/step\n"
          ]
        },
        {
          "output_type": "stream",
          "name": "stderr",
          "text": [
            "/usr/local/lib/python3.10/dist-packages/sklearn/metrics/_classification.py:1344: UndefinedMetricWarning: Precision is ill-defined and being set to 0.0 in labels with no predicted samples. Use `zero_division` parameter to control this behavior.\n",
            "  _warn_prf(average, modifier, msg_start, len(result))\n"
          ]
        }
      ]
    },
    {
      "cell_type": "code",
      "source": [
        "pd.DataFrame(data).set_index(\"Metric\")"
      ],
      "metadata": {
        "colab": {
          "base_uri": "https://localhost:8080/",
          "height": 206
        },
        "id": "7zBk-LwjdCd7",
        "outputId": "5e122896-ef71-4fa0-c002-2ae6ac795223"
      },
      "execution_count": 13,
      "outputs": [
        {
          "output_type": "execute_result",
          "data": {
            "text/plain": [
              "              Value\n",
              "Metric             \n",
              "Accuracy   0.175000\n",
              "Precision  0.030625\n",
              "Recall     0.175000\n",
              "F1         0.052128"
            ],
            "text/html": [
              "\n",
              "  <div id=\"df-adf45fff-1f37-488e-8afa-a9a4bf7bf090\">\n",
              "    <div class=\"colab-df-container\">\n",
              "      <div>\n",
              "<style scoped>\n",
              "    .dataframe tbody tr th:only-of-type {\n",
              "        vertical-align: middle;\n",
              "    }\n",
              "\n",
              "    .dataframe tbody tr th {\n",
              "        vertical-align: top;\n",
              "    }\n",
              "\n",
              "    .dataframe thead th {\n",
              "        text-align: right;\n",
              "    }\n",
              "</style>\n",
              "<table border=\"1\" class=\"dataframe\">\n",
              "  <thead>\n",
              "    <tr style=\"text-align: right;\">\n",
              "      <th></th>\n",
              "      <th>Value</th>\n",
              "    </tr>\n",
              "    <tr>\n",
              "      <th>Metric</th>\n",
              "      <th></th>\n",
              "    </tr>\n",
              "  </thead>\n",
              "  <tbody>\n",
              "    <tr>\n",
              "      <th>Accuracy</th>\n",
              "      <td>0.175000</td>\n",
              "    </tr>\n",
              "    <tr>\n",
              "      <th>Precision</th>\n",
              "      <td>0.030625</td>\n",
              "    </tr>\n",
              "    <tr>\n",
              "      <th>Recall</th>\n",
              "      <td>0.175000</td>\n",
              "    </tr>\n",
              "    <tr>\n",
              "      <th>F1</th>\n",
              "      <td>0.052128</td>\n",
              "    </tr>\n",
              "  </tbody>\n",
              "</table>\n",
              "</div>\n",
              "      <button class=\"colab-df-convert\" onclick=\"convertToInteractive('df-adf45fff-1f37-488e-8afa-a9a4bf7bf090')\"\n",
              "              title=\"Convert this dataframe to an interactive table.\"\n",
              "              style=\"display:none;\">\n",
              "        \n",
              "  <svg xmlns=\"http://www.w3.org/2000/svg\" height=\"24px\"viewBox=\"0 0 24 24\"\n",
              "       width=\"24px\">\n",
              "    <path d=\"M0 0h24v24H0V0z\" fill=\"none\"/>\n",
              "    <path d=\"M18.56 5.44l.94 2.06.94-2.06 2.06-.94-2.06-.94-.94-2.06-.94 2.06-2.06.94zm-11 1L8.5 8.5l.94-2.06 2.06-.94-2.06-.94L8.5 2.5l-.94 2.06-2.06.94zm10 10l.94 2.06.94-2.06 2.06-.94-2.06-.94-.94-2.06-.94 2.06-2.06.94z\"/><path d=\"M17.41 7.96l-1.37-1.37c-.4-.4-.92-.59-1.43-.59-.52 0-1.04.2-1.43.59L10.3 9.45l-7.72 7.72c-.78.78-.78 2.05 0 2.83L4 21.41c.39.39.9.59 1.41.59.51 0 1.02-.2 1.41-.59l7.78-7.78 2.81-2.81c.8-.78.8-2.07 0-2.86zM5.41 20L4 18.59l7.72-7.72 1.47 1.35L5.41 20z\"/>\n",
              "  </svg>\n",
              "      </button>\n",
              "      \n",
              "  <style>\n",
              "    .colab-df-container {\n",
              "      display:flex;\n",
              "      flex-wrap:wrap;\n",
              "      gap: 12px;\n",
              "    }\n",
              "\n",
              "    .colab-df-convert {\n",
              "      background-color: #E8F0FE;\n",
              "      border: none;\n",
              "      border-radius: 50%;\n",
              "      cursor: pointer;\n",
              "      display: none;\n",
              "      fill: #1967D2;\n",
              "      height: 32px;\n",
              "      padding: 0 0 0 0;\n",
              "      width: 32px;\n",
              "    }\n",
              "\n",
              "    .colab-df-convert:hover {\n",
              "      background-color: #E2EBFA;\n",
              "      box-shadow: 0px 1px 2px rgba(60, 64, 67, 0.3), 0px 1px 3px 1px rgba(60, 64, 67, 0.15);\n",
              "      fill: #174EA6;\n",
              "    }\n",
              "\n",
              "    [theme=dark] .colab-df-convert {\n",
              "      background-color: #3B4455;\n",
              "      fill: #D2E3FC;\n",
              "    }\n",
              "\n",
              "    [theme=dark] .colab-df-convert:hover {\n",
              "      background-color: #434B5C;\n",
              "      box-shadow: 0px 1px 3px 1px rgba(0, 0, 0, 0.15);\n",
              "      filter: drop-shadow(0px 1px 2px rgba(0, 0, 0, 0.3));\n",
              "      fill: #FFFFFF;\n",
              "    }\n",
              "  </style>\n",
              "\n",
              "      <script>\n",
              "        const buttonEl =\n",
              "          document.querySelector('#df-adf45fff-1f37-488e-8afa-a9a4bf7bf090 button.colab-df-convert');\n",
              "        buttonEl.style.display =\n",
              "          google.colab.kernel.accessAllowed ? 'block' : 'none';\n",
              "\n",
              "        async function convertToInteractive(key) {\n",
              "          const element = document.querySelector('#df-adf45fff-1f37-488e-8afa-a9a4bf7bf090');\n",
              "          const dataTable =\n",
              "            await google.colab.kernel.invokeFunction('convertToInteractive',\n",
              "                                                     [key], {});\n",
              "          if (!dataTable) return;\n",
              "\n",
              "          const docLinkHtml = 'Like what you see? Visit the ' +\n",
              "            '<a target=\"_blank\" href=https://colab.research.google.com/notebooks/data_table.ipynb>data table notebook</a>'\n",
              "            + ' to learn more about interactive tables.';\n",
              "          element.innerHTML = '';\n",
              "          dataTable['output_type'] = 'display_data';\n",
              "          await google.colab.output.renderOutput(dataTable, element);\n",
              "          const docLink = document.createElement('div');\n",
              "          docLink.innerHTML = docLinkHtml;\n",
              "          element.appendChild(docLink);\n",
              "        }\n",
              "      </script>\n",
              "    </div>\n",
              "  </div>\n",
              "  "
            ]
          },
          "metadata": {},
          "execution_count": 13
        }
      ]
    },
    {
      "cell_type": "markdown",
      "source": [
        "# Model 3: Eyes"
      ],
      "metadata": {
        "id": "0jYKD3htdqSU"
      }
    },
    {
      "cell_type": "code",
      "source": [
        "image_train, label_train, image_test, label_test = datasetload.fetch_eyes()"
      ],
      "metadata": {
        "colab": {
          "base_uri": "https://localhost:8080/"
        },
        "id": "bD7ChQvjdtN6",
        "outputId": "c173432f-28e4-42fe-9f1e-c6453b48cb5a"
      },
      "execution_count": 15,
      "outputs": [
        {
          "output_type": "stream",
          "name": "stdout",
          "text": [
            "Drive already mounted at /content/drive/; to attempt to forcibly remount, call drive.mount(\"/content/drive/\", force_remount=True).\n"
          ]
        }
      ]
    },
    {
      "cell_type": "code",
      "source": [
        "image_train[0].shape"
      ],
      "metadata": {
        "colab": {
          "base_uri": "https://localhost:8080/"
        },
        "id": "06HCA4s9d1q-",
        "outputId": "5fccf8fa-f018-4af5-b38a-c6470b4a0f18"
      },
      "execution_count": 16,
      "outputs": [
        {
          "output_type": "execute_result",
          "data": {
            "text/plain": [
              "(224, 224, 3)"
            ]
          },
          "metadata": {},
          "execution_count": 16
        }
      ]
    },
    {
      "cell_type": "code",
      "source": [
        "model3 = vgg_model(image_train[0].shape, 4)"
      ],
      "metadata": {
        "id": "aA1qECQPd6i1"
      },
      "execution_count": 20,
      "outputs": []
    },
    {
      "cell_type": "code",
      "source": [
        "model3.summary()"
      ],
      "metadata": {
        "colab": {
          "base_uri": "https://localhost:8080/"
        },
        "id": "YqsWR8QVeJt2",
        "outputId": "d33cd89f-207d-4229-df60-a05ee5f5eb30"
      },
      "execution_count": 21,
      "outputs": [
        {
          "output_type": "stream",
          "name": "stdout",
          "text": [
            "Model: \"sequential_2\"\n",
            "_________________________________________________________________\n",
            " Layer (type)                Output Shape              Param #   \n",
            "=================================================================\n",
            " conv2d_26 (Conv2D)          (None, 224, 224, 16)      448       \n",
            "                                                                 \n",
            " conv2d_27 (Conv2D)          (None, 224, 224, 16)      2320      \n",
            "                                                                 \n",
            " max_pooling2d_10 (MaxPoolin  (None, 112, 112, 16)     0         \n",
            " g2D)                                                            \n",
            "                                                                 \n",
            " conv2d_28 (Conv2D)          (None, 112, 112, 32)      4640      \n",
            "                                                                 \n",
            " conv2d_29 (Conv2D)          (None, 112, 112, 32)      9248      \n",
            "                                                                 \n",
            " max_pooling2d_11 (MaxPoolin  (None, 56, 56, 32)       0         \n",
            " g2D)                                                            \n",
            "                                                                 \n",
            " conv2d_30 (Conv2D)          (None, 56, 56, 64)        18496     \n",
            "                                                                 \n",
            " conv2d_31 (Conv2D)          (None, 56, 56, 64)        36928     \n",
            "                                                                 \n",
            " conv2d_32 (Conv2D)          (None, 56, 56, 64)        36928     \n",
            "                                                                 \n",
            " max_pooling2d_12 (MaxPoolin  (None, 28, 28, 64)       0         \n",
            " g2D)                                                            \n",
            "                                                                 \n",
            " conv2d_33 (Conv2D)          (None, 28, 28, 128)       73856     \n",
            "                                                                 \n",
            " conv2d_34 (Conv2D)          (None, 28, 28, 128)       147584    \n",
            "                                                                 \n",
            " conv2d_35 (Conv2D)          (None, 28, 28, 128)       147584    \n",
            "                                                                 \n",
            " max_pooling2d_13 (MaxPoolin  (None, 14, 14, 128)      0         \n",
            " g2D)                                                            \n",
            "                                                                 \n",
            " conv2d_36 (Conv2D)          (None, 14, 14, 256)       295168    \n",
            "                                                                 \n",
            " conv2d_37 (Conv2D)          (None, 14, 14, 256)       590080    \n",
            "                                                                 \n",
            " conv2d_38 (Conv2D)          (None, 14, 14, 256)       590080    \n",
            "                                                                 \n",
            " max_pooling2d_14 (MaxPoolin  (None, 7, 7, 256)        0         \n",
            " g2D)                                                            \n",
            "                                                                 \n",
            " flatten_2 (Flatten)         (None, 12544)             0         \n",
            "                                                                 \n",
            " dense_14 (Dense)            (None, 2048)              25692160  \n",
            "                                                                 \n",
            " dense_15 (Dense)            (None, 4096)              8392704   \n",
            "                                                                 \n",
            " dense_16 (Dense)            (None, 512)               2097664   \n",
            "                                                                 \n",
            " dense_17 (Dense)            (None, 256)               131328    \n",
            "                                                                 \n",
            " dense_18 (Dense)            (None, 120)               30840     \n",
            "                                                                 \n",
            " dense_19 (Dense)            (None, 24)                2904      \n",
            "                                                                 \n",
            " dense_20 (Dense)            (None, 4)                 100       \n",
            "                                                                 \n",
            "=================================================================\n",
            "Total params: 38,301,060\n",
            "Trainable params: 38,301,060\n",
            "Non-trainable params: 0\n",
            "_________________________________________________________________\n"
          ]
        }
      ]
    },
    {
      "cell_type": "code",
      "source": [
        "history = model3.fit(image_train, label_train, epochs = 20)"
      ],
      "metadata": {
        "colab": {
          "base_uri": "https://localhost:8080/"
        },
        "id": "rNk4of3deM0v",
        "outputId": "1aa1a99e-34b9-446a-dd58-0f41a50089d6"
      },
      "execution_count": 22,
      "outputs": [
        {
          "output_type": "stream",
          "name": "stdout",
          "text": [
            "Epoch 1/20\n",
            "78/78 [==============================] - 4s 26ms/step - loss: 1.3950 - accuracy: 0.2801\n",
            "Epoch 2/20\n",
            "78/78 [==============================] - 2s 19ms/step - loss: 1.3875 - accuracy: 0.2537\n",
            "Epoch 3/20\n",
            "78/78 [==============================] - 2s 20ms/step - loss: 1.3867 - accuracy: 0.2497\n",
            "Epoch 4/20\n",
            "78/78 [==============================] - 2s 20ms/step - loss: 1.3866 - accuracy: 0.2424\n",
            "Epoch 5/20\n",
            "78/78 [==============================] - 2s 20ms/step - loss: 1.3865 - accuracy: 0.2497\n",
            "Epoch 6/20\n",
            "78/78 [==============================] - 2s 20ms/step - loss: 1.3866 - accuracy: 0.2432\n",
            "Epoch 7/20\n",
            "78/78 [==============================] - 2s 20ms/step - loss: 1.3865 - accuracy: 0.2497\n",
            "Epoch 8/20\n",
            "78/78 [==============================] - 2s 20ms/step - loss: 1.3865 - accuracy: 0.2497\n",
            "Epoch 9/20\n",
            "78/78 [==============================] - 2s 19ms/step - loss: 1.3865 - accuracy: 0.2497\n",
            "Epoch 10/20\n",
            "78/78 [==============================] - 2s 20ms/step - loss: 1.3865 - accuracy: 0.2497\n",
            "Epoch 11/20\n",
            "78/78 [==============================] - 2s 20ms/step - loss: 1.3864 - accuracy: 0.2497\n",
            "Epoch 12/20\n",
            "78/78 [==============================] - 1s 19ms/step - loss: 1.3865 - accuracy: 0.2481\n",
            "Epoch 13/20\n",
            "78/78 [==============================] - 2s 19ms/step - loss: 1.3866 - accuracy: 0.2432\n",
            "Epoch 14/20\n",
            "78/78 [==============================] - 2s 19ms/step - loss: 1.3867 - accuracy: 0.2331\n",
            "Epoch 15/20\n",
            "78/78 [==============================] - 2s 19ms/step - loss: 1.3866 - accuracy: 0.2355\n",
            "Epoch 16/20\n",
            "78/78 [==============================] - 2s 20ms/step - loss: 1.3866 - accuracy: 0.2327\n",
            "Epoch 17/20\n",
            "78/78 [==============================] - 2s 19ms/step - loss: 1.3866 - accuracy: 0.2440\n",
            "Epoch 18/20\n",
            "78/78 [==============================] - 2s 20ms/step - loss: 1.3865 - accuracy: 0.2477\n",
            "Epoch 19/20\n",
            "78/78 [==============================] - 2s 19ms/step - loss: 1.3865 - accuracy: 0.2436\n",
            "Epoch 20/20\n",
            "78/78 [==============================] - 2s 19ms/step - loss: 1.3865 - accuracy: 0.2404\n"
          ]
        }
      ]
    },
    {
      "cell_type": "code",
      "source": [
        "history.history"
      ],
      "metadata": {
        "colab": {
          "base_uri": "https://localhost:8080/"
        },
        "id": "fLUhBW0lePnQ",
        "outputId": "d27b5b0c-413a-4b84-c95c-d978394be3b5"
      },
      "execution_count": 23,
      "outputs": [
        {
          "output_type": "execute_result",
          "data": {
            "text/plain": [
              "{'loss': [1.3950378894805908,\n",
              "  1.3875389099121094,\n",
              "  1.3867253065109253,\n",
              "  1.3865551948547363,\n",
              "  1.3864802122116089,\n",
              "  1.3865656852722168,\n",
              "  1.386489748954773,\n",
              "  1.3864831924438477,\n",
              "  1.3864598274230957,\n",
              "  1.3864896297454834,\n",
              "  1.3864434957504272,\n",
              "  1.386475920677185,\n",
              "  1.3865827322006226,\n",
              "  1.3866535425186157,\n",
              "  1.3866246938705444,\n",
              "  1.3866195678710938,\n",
              "  1.386551856994629,\n",
              "  1.3865355253219604,\n",
              "  1.3864930868148804,\n",
              "  1.3864972591400146],\n",
              " 'accuracy': [0.28009727597236633,\n",
              "  0.2537494897842407,\n",
              "  0.24969598650932312,\n",
              "  0.2423996776342392,\n",
              "  0.24969598650932312,\n",
              "  0.24321037530899048,\n",
              "  0.24969598650932312,\n",
              "  0.24969598650932312,\n",
              "  0.24969598650932312,\n",
              "  0.24969598650932312,\n",
              "  0.24969598650932312,\n",
              "  0.24807459115982056,\n",
              "  0.24321037530899048,\n",
              "  0.23307661712169647,\n",
              "  0.23550871014595032,\n",
              "  0.23267126083374023,\n",
              "  0.24402107298374176,\n",
              "  0.24766923487186432,\n",
              "  0.24361573159694672,\n",
              "  0.2403729259967804]}"
            ]
          },
          "metadata": {},
          "execution_count": 23
        }
      ]
    },
    {
      "cell_type": "code",
      "source": [
        "plt.plot(history.history['loss'])\n",
        "plt.title(\"Loss for Eyes\")\n",
        "plt.xlabel(\"Epochs\")\n",
        "plt.ylabel(\"Loss\")\n",
        "plt.show()"
      ],
      "metadata": {
        "colab": {
          "base_uri": "https://localhost:8080/",
          "height": 472
        },
        "id": "H2EyQYddeRZ0",
        "outputId": "276ebdde-49a9-4d9b-8c2b-980e65ec9a72"
      },
      "execution_count": 24,
      "outputs": [
        {
          "output_type": "display_data",
          "data": {
            "text/plain": [
              "<Figure size 640x480 with 1 Axes>"
            ],
            "image/png": "[encoded data removed]"
          },
          "metadata": {}
        }
      ]
    },
    {
      "cell_type": "code",
      "source": [
        "scores = model3.evaluate(image_test, label_test)\n",
        "print(scores)"
      ],
      "metadata": {
        "colab": {
          "base_uri": "https://localhost:8080/"
        },
        "id": "e_arTXvyeT30",
        "outputId": "32f81782-e021-4dda-d437-c368f54ad412"
      },
      "execution_count": 25,
      "outputs": [
        {
          "output_type": "stream",
          "name": "stdout",
          "text": [
            "14/14 [==============================] - 1s 31ms/step - loss: 1.3863 - accuracy: 0.2517\n",
            "[1.3862661123275757, 0.25173211097717285]\n"
          ]
        }
      ]
    },
    {
      "cell_type": "code",
      "source": [
        "from sklearn.metrics import precision_score, f1_score, recall_score\n",
        "\n",
        "y_pred = model2.predict(image_test)\n",
        "\n",
        "y_pred_classes = np.argmax(y_pred, axis=1)\n",
        "label_test_classes = np.argmax(label_test, axis = 1)\n",
        "\n",
        "accuracy = scores[1]\n",
        "type(accuracy)\n",
        "\n",
        "precision = precision_score(label_test_classes, y_pred_classes, average='weighted')\n",
        "f1 = f1_score(label_test_classes, y_pred_classes, average='weighted')\n",
        "recall = recall_score(label_test_classes, y_pred_classes, average='weighted')\n",
        "\n",
        "headers = [\"Metric\", \"Value\"]\n",
        "\n",
        "data = {\n",
        "    \"Metric\": [\"Accuracy\", \"Precision\",\"Recall\",\"F1\"],\n",
        "    \"Value\": [accuracy, precision, recall, f1]\n",
        "}\n",
        "\n",
        "pd.DataFrame(data).set_index(\"Metric\")"
      ],
      "metadata": {
        "colab": {
          "base_uri": "https://localhost:8080/",
          "height": 278
        },
        "id": "QGDLKORieWCR",
        "outputId": "b30269c2-b743-4422-85ee-206130a69716"
      },
      "execution_count": 26,
      "outputs": [
        {
          "output_type": "stream",
          "name": "stdout",
          "text": [
            "14/14 [==============================] - 0s 9ms/step\n"
          ]
        },
        {
          "output_type": "stream",
          "name": "stderr",
          "text": [
            "/usr/local/lib/python3.10/dist-packages/sklearn/metrics/_classification.py:1344: UndefinedMetricWarning: Precision is ill-defined and being set to 0.0 in labels with no predicted samples. Use `zero_division` parameter to control this behavior.\n",
            "  _warn_prf(average, modifier, msg_start, len(result))\n"
          ]
        },
        {
          "output_type": "execute_result",
          "data": {
            "text/plain": [
              "              Value\n",
              "Metric             \n",
              "Accuracy   0.251732\n",
              "Precision  0.063369\n",
              "Recall     0.251732\n",
              "F1         0.101250"
            ],
            "text/html": [
              "\n",
              "  <div id=\"df-1a8ea6ae-2caa-4612-89b8-e5daab048c7c\">\n",
              "    <div class=\"colab-df-container\">\n",
              "      <div>\n",
              "<style scoped>\n",
              "    .dataframe tbody tr th:only-of-type {\n",
              "        vertical-align: middle;\n",
              "    }\n",
              "\n",
              "    .dataframe tbody tr th {\n",
              "        vertical-align: top;\n",
              "    }\n",
              "\n",
              "    .dataframe thead th {\n",
              "        text-align: right;\n",
              "    }\n",
              "</style>\n",
              "<table border=\"1\" class=\"dataframe\">\n",
              "  <thead>\n",
              "    <tr style=\"text-align: right;\">\n",
              "      <th></th>\n",
              "      <th>Value</th>\n",
              "    </tr>\n",
              "    <tr>\n",
              "      <th>Metric</th>\n",
              "      <th></th>\n",
              "    </tr>\n",
              "  </thead>\n",
              "  <tbody>\n",
              "    <tr>\n",
              "      <th>Accuracy</th>\n",
              "      <td>0.251732</td>\n",
              "    </tr>\n",
              "    <tr>\n",
              "      <th>Precision</th>\n",
              "      <td>0.063369</td>\n",
              "    </tr>\n",
              "    <tr>\n",
              "      <th>Recall</th>\n",
              "      <td>0.251732</td>\n",
              "    </tr>\n",
              "    <tr>\n",
              "      <th>F1</th>\n",
              "      <td>0.101250</td>\n",
              "    </tr>\n",
              "  </tbody>\n",
              "</table>\n",
              "</div>\n",
              "      <button class=\"colab-df-convert\" onclick=\"convertToInteractive('df-1a8ea6ae-2caa-4612-89b8-e5daab048c7c')\"\n",
              "              title=\"Convert this dataframe to an interactive table.\"\n",
              "              style=\"display:none;\">\n",
              "        \n",
              "  <svg xmlns=\"http://www.w3.org/2000/svg\" height=\"24px\"viewBox=\"0 0 24 24\"\n",
              "       width=\"24px\">\n",
              "    <path d=\"M0 0h24v24H0V0z\" fill=\"none\"/>\n",
              "    <path d=\"M18.56 5.44l.94 2.06.94-2.06 2.06-.94-2.06-.94-.94-2.06-.94 2.06-2.06.94zm-11 1L8.5 8.5l.94-2.06 2.06-.94-2.06-.94L8.5 2.5l-.94 2.06-2.06.94zm10 10l.94 2.06.94-2.06 2.06-.94-2.06-.94-.94-2.06-.94 2.06-2.06.94z\"/><path d=\"M17.41 7.96l-1.37-1.37c-.4-.4-.92-.59-1.43-.59-.52 0-1.04.2-1.43.59L10.3 9.45l-7.72 7.72c-.78.78-.78 2.05 0 2.83L4 21.41c.39.39.9.59 1.41.59.51 0 1.02-.2 1.41-.59l7.78-7.78 2.81-2.81c.8-.78.8-2.07 0-2.86zM5.41 20L4 18.59l7.72-7.72 1.47 1.35L5.41 20z\"/>\n",
              "  </svg>\n",
              "      </button>\n",
              "      \n",
              "  <style>\n",
              "    .colab-df-container {\n",
              "      display:flex;\n",
              "      flex-wrap:wrap;\n",
              "      gap: 12px;\n",
              "    }\n",
              "\n",
              "    .colab-df-convert {\n",
              "      background-color: #E8F0FE;\n",
              "      border: none;\n",
              "      border-radius: 50%;\n",
              "      cursor: pointer;\n",
              "      display: none;\n",
              "      fill: #1967D2;\n",
              "      height: 32px;\n",
              "      padding: 0 0 0 0;\n",
              "      width: 32px;\n",
              "    }\n",
              "\n",
              "    .colab-df-convert:hover {\n",
              "      background-color: #E2EBFA;\n",
              "      box-shadow: 0px 1px 2px rgba(60, 64, 67, 0.3), 0px 1px 3px 1px rgba(60, 64, 67, 0.15);\n",
              "      fill: #174EA6;\n",
              "    }\n",
              "\n",
              "    [theme=dark] .colab-df-convert {\n",
              "      background-color: #3B4455;\n",
              "      fill: #D2E3FC;\n",
              "    }\n",
              "\n",
              "    [theme=dark] .colab-df-convert:hover {\n",
              "      background-color: #434B5C;\n",
              "      box-shadow: 0px 1px 3px 1px rgba(0, 0, 0, 0.15);\n",
              "      filter: drop-shadow(0px 1px 2px rgba(0, 0, 0, 0.3));\n",
              "      fill: #FFFFFF;\n",
              "    }\n",
              "  </style>\n",
              "\n",
              "      <script>\n",
              "        const buttonEl =\n",
              "          document.querySelector('#df-1a8ea6ae-2caa-4612-89b8-e5daab048c7c button.colab-df-convert');\n",
              "        buttonEl.style.display =\n",
              "          google.colab.kernel.accessAllowed ? 'block' : 'none';\n",
              "\n",
              "        async function convertToInteractive(key) {\n",
              "          const element = document.querySelector('#df-1a8ea6ae-2caa-4612-89b8-e5daab048c7c');\n",
              "          const dataTable =\n",
              "            await google.colab.kernel.invokeFunction('convertToInteractive',\n",
              "                                                     [key], {});\n",
              "          if (!dataTable) return;\n",
              "\n",
              "          const docLinkHtml = 'Like what you see? Visit the ' +\n",
              "            '<a target=\"_blank\" href=https://colab.research.google.com/notebooks/data_table.ipynb>data table notebook</a>'\n",
              "            + ' to learn more about interactive tables.';\n",
              "          element.innerHTML = '';\n",
              "          dataTable['output_type'] = 'display_data';\n",
              "          await google.colab.output.renderOutput(dataTable, element);\n",
              "          const docLink = document.createElement('div');\n",
              "          docLink.innerHTML = docLinkHtml;\n",
              "          element.appendChild(docLink);\n",
              "        }\n",
              "      </script>\n",
              "    </div>\n",
              "  </div>\n",
              "  "
            ]
          },
          "metadata": {},
          "execution_count": 26
        }
      ]
    },
    {
      "cell_type": "markdown",
      "source": [
        "# Spare code\n",
        "\n",
        "Fall back on this if the functions from datasetload.py don't work."
      ],
      "metadata": {
        "id": "SnyzPZx4J8ow"
      }
    },
    {
      "cell_type": "code",
      "source": [
        "import opendatasets as od\n",
        "import PIL\n",
        "import glob\n",
        "import numpy as np\n",
        "import sklearn"
      ],
      "metadata": {
        "id": "3EUTX0KGHSjF"
      },
      "execution_count": null,
      "outputs": []
    },
    {
      "cell_type": "code",
      "source": [
        "#od.download(\"https://www.kaggle.com/datasets/drgfreeman/rockpaperscissors\") \n",
        "# downloading files directly from Kaggle, may need username and API token (accessible in kaggle.json from Profile > Account > API > \"Create New Token\")"
      ],
      "metadata": {
        "colab": {
          "base_uri": "https://localhost:8080/"
        },
        "id": "lV0YwM4TYOCg",
        "outputId": "28f85ee4-94b4-4f67-9130-104ecb478050"
      },
      "execution_count": null,
      "outputs": [
        {
          "output_type": "stream",
          "name": "stdout",
          "text": [
            "Please provide your Kaggle credentials to download this dataset. Learn more: http://bit.ly/kaggle-creds\n",
            "Your Kaggle username: jasonbard\n",
            "Your Kaggle Key: ··········\n",
            "Downloading rockpaperscissors.zip to ./rockpaperscissors\n"
          ]
        },
        {
          "output_type": "stream",
          "name": "stderr",
          "text": [
            "100%|██████████| 306M/306M [00:17<00:00, 18.6MB/s]\n"
          ]
        },
        {
          "output_type": "stream",
          "name": "stdout",
          "text": [
            "\n"
          ]
        }
      ]
    },
    {
      "cell_type": "code",
      "source": [
        "from google.colab import drive\n",
        "drive.mount(\"/content/drive/\")\n",
        "\n",
        "#import os \n",
        "#os.chdir(\"/content/drive/My Drive\")"
      ],
      "metadata": {
        "colab": {
          "base_uri": "https://localhost:8080/"
        },
        "id": "FU4KaCt-Ycpy",
        "outputId": "0a873b14-83db-4832-ab49-4fb7973dcbb2"
      },
      "execution_count": null,
      "outputs": [
        {
          "output_type": "stream",
          "name": "stdout",
          "text": [
            "Drive already mounted at /content/drive/; to attempt to forcibly remount, call drive.mount(\"/content/drive/\", force_remount=True).\n"
          ]
        }
      ]
    },
    {
      "cell_type": "code",
      "source": [
        "!ls"
      ],
      "metadata": {
        "colab": {
          "base_uri": "https://localhost:8080/"
        },
        "id": "U5ljOlTYYlrO",
        "outputId": "3e915c59-9dbe-4a43-ece5-3b7428011233"
      },
      "execution_count": null,
      "outputs": [
        {
          "output_type": "stream",
          "name": "stdout",
          "text": [
            "'2020-07-18 (Rational choice theory draft).gdoc'\n",
            "'2020-07-25 (Public opinion draft).gdoc'\n",
            "'2020-08-01 (Media and Fake News).gdoc'\n",
            "'2020-08-08 (Electoral College).gdoc'\n",
            "'24 7 Championships.gsheet'\n",
            "'24 7.gsheet'\n",
            " 42.gdoc\n",
            "'42 stats.gdoc'\n",
            " 9-8.gdoc\n",
            "'ABIDE Document.gdoc'\n",
            "'ABIDEII_Composite_Phenotypic (1).gsheet'\n",
            " ABIDEII_Composite_Phenotypic.csv\n",
            " ABIDEII_Composite_Phenotypic.gsheet\n",
            "'Abstract & possible poster things .gdoc'\n",
            " Accommodations.gdoc\n",
            " ACNH.gsheet\n",
            " Add.gdoc\n",
            "'Adobe Scan Nov 30, 2021.pdf'\n",
            " Ads.gdoc\n",
            " Ads.gsheet\n",
            " Africa.gdoc\n",
            " Ah.gsheet\n",
            " Alan.gdoc\n",
            "'Algorithm spam.gdoc'\n",
            " Allow.gsheet\n",
            " Amber.gdoc\n",
            " Andy.gdoc\n",
            "'As Bs and Cs.gsheet'\n",
            " As.gsheet\n",
            "'Bard 2022 Spring Undergraduate Research.gdoc'\n",
            "'Bard Bibliography 1.docx'\n",
            "'Bard Bibliography 1.gdoc'\n",
            "'Bard choir 2-17-22.docx'\n",
            "'Bard choir 2-17-22.gdoc'\n",
            "'Bard choir 2-17-22olddd.docx'\n",
            "'Bard Essay 1.docx'\n",
            "'Bard HW1 MATH 3301.gdoc'\n",
            " Bard.MachineLearning.Lab1.Answers\n",
            "'Bard POLS 2312-001 Essay 4.docx'\n",
            "'Bard POLS 2312-001 Essay 4.gdoc'\n",
            "'Baseball (1).gdoc'\n",
            " Baseball.gdoc\n",
            " Baseball.gsheet\n",
            "'Baseball movies.gsheet'\n",
            "'Baseball Players.gsheet'\n",
            " Bears.gdoc\n",
            " BeepBox-Song.wav\n",
            "\"Benford's Law.gsheet\"\n",
            " B.gsheet\n",
            " bing.txt.gdoc\n",
            "'Bohemian Rhapsody High Quality Images'\n",
            "'Brainstorm 1-24-23.gdoc'\n",
            " Brainstorming-jasonbard.gslides\n",
            "'Bullet point 20220810.gdoc'\n",
            "'Bullet points 5-30-22.gdoc'\n",
            "'Bullet points 6-5-22.gdoc'\n",
            "'Bullet points.gdoc'\n",
            "'CA - Me  Boys-Jason-backpack.csv'\n",
            "'Candidate Articles.gdoc'\n",
            " Cbt.gdoc\n",
            "'Chamber Music'\n",
            "'Chatgpt down.gdoc'\n",
            " Chaturanga.gdoc\n",
            " Che.gdoc\n",
            "'Choir 2-18-22.gdoc'\n",
            " Clothe.gdoc\n",
            " Code\n",
            "'Code explanation.gdoc'\n",
            " Coin.gsheet\n",
            " colab_data\n",
            "'Colab Notebooks'\n",
            " Cola.gdoc\n",
            "'Combined presentation.gslides'\n",
            "'Copy of Abstract .gdoc'\n",
            "'Copy of John B. Fraleigh - A First Course in Abstract Algebra Solution Manual (2002, Addison Wesley) - libgen.lc.pdf'\n",
            "'Copy of Robert Hogg, Elliot Tanis, Dale Zimmerman - Probability and Statistical Inference-Pearson (2019).pdf'\n",
            "'Country native names countries.gsheet'\n",
            " D26BE868-B5D7-4B91-955A-E4C7C0557E29.pdf\n",
            " Dan.gdoc\n",
            " DATA3401.2022.Spring.Quiz1.ipynb\n",
            " DATA4380-project\n",
            "'Data mining notes.gdoc'\n",
            "'Data’s I.gdoc'\n",
            " DeepSummer_Bard_HW1.ipynb\n",
            " DET.gdoc\n",
            " Dha.gdoc\n",
            " Diacritics.gdoc\n",
            " Didn’t.gsheet\n",
            " DIME.gdoc\n",
            " Discrete.gdoc\n",
            " DM.gdoc\n",
            " Doc.gdoc\n",
            "'Dr Owens 20220812.gdoc'\n",
            "'drowsiness-detection-pre processed data Final.ipynb'\n",
            " EFT\n",
            " Ehh.gdoc\n",
            " Eye.gdoc\n",
            " Fact.gsheet\n",
            "'Fake News'\n",
            " F.gsheet\n",
            " Field_data\n",
            "'Final reflection.gdoc'\n",
            " Font.gdoc\n",
            " Fox.gdoc\n",
            " From.gdoc\n",
            " Fusis.gsheet\n",
            "'Game Audio'\n",
            "'Game idea .gdoc'\n",
            "'Geometry HW2 Essay.gdoc'\n",
            "'GeometryPresentationcopy (1).pptx'\n",
            " GeometryPresentationcopy.pptx\n",
            " Gmath.gdoc\n",
            " Grade.gsheet\n",
            "'H (1).gdoc'\n",
            "'h7qkzy6918v61.jpg 792×1,208 pixels.jpeg'\n",
            " Habit.gdoc\n",
            "'Harmony Reflection.docx'\n",
            "'Harmony Reflection.gdoc'\n",
            " heart.csv\n",
            "'Heather Jazz David.gdoc'\n",
            " He.gdoc\n",
            "'He ok be.gdoc'\n",
            "'H FB and.gsheet'\n",
            " H.gdoc\n",
            " Hh.gsheet\n",
            " Highlights.gdoc\n",
            " Hintena.gdoc\n",
            "'History of Video Games.gdoc'\n",
            "'HoVG project.gdoc'\n",
            "'HoVG project simple parts.gdoc'\n",
            "'How does strategy change.gdoc'\n",
            " Hw5.gdoc\n",
            " Hxhua.gdoc\n",
            " Hypotenuse.gdoc\n",
            " Ideas.gdoc\n",
            " IMG_1205.MOV\n",
            " Indians.gdoc\n",
            " input.txt\n",
            "'Instructors Solutions Manual for Elementary Number Theory and Its Applications, 6th Ed. by Kenneth H. Rosen (z-lib.org).pdf'\n",
            " Interstate.gdoc\n",
            " Intime.gdoc\n",
            "'Intime response.gdoc'\n",
            "'Inversive geometry draft.gdoc'\n",
            "'Inversive Geometry.gslides'\n",
            "'Inversive Geometry Prospective Links.gdoc'\n",
            "'Is It legal?.gdoc'\n",
            " JasonBard_WhitePaper.docx\n",
            " JasonBard_WhitePaper.gdoc\n",
            "'JBard Research with Maia.docx'\n",
            "'J cantor.gdoc'\n",
            "'JOHN JONES BEY v. STATE OF INDIANA | FindLaw (1).pdf'\n",
            "'JOHN JONES BEY v. STATE OF INDIANA | FindLaw.gdoc'\n",
            "'JOHN JONES BEY v. STATE OF INDIANA | FindLaw.pdf'\n",
            " Katya.gdoc\n",
            " Lab.6.GD.ipynb\n",
            " Lab.7.GD.ipynb\n",
            " lacrimosa.mp4\n",
            "'Last Name Merge Backup.gdoc'\n",
            "'Last Name Sheet Handling Transfer.gsheet'\n",
            " League.gdoc\n",
            "'Le College.gsheet'\n",
            "'License Agreement | GameChanger.pdf'\n",
            " Limits.gdoc\n",
            "'Link doc.gdoc'\n",
            "'Link news facts.gdoc'\n",
            " Lipsum.gdoc\n",
            "'Lit review.gdoc'\n",
            "'Lyric Scraps 2.gdoc'\n",
            " MAA.gdoc\n",
            "'Machine Learning DATA 3461.gdoc'\n",
            "'maia notes 10-2-22.gdoc'\n",
            " Mantra.gdoc\n",
            " Mathematics.gdoc\n",
            " Mathematics.gsheet\n",
            " Maths.gsheet\n",
            " Means.gsheet\n",
            "'Melody Collection.gdoc'\n",
            "'Melody Reflection.docx'\n",
            "'Melody Reflection.gdoc'\n",
            " Mia.gdoc\n",
            " min-char-rnn.py\n",
            " Misc.\n",
            "'ML format from TIFF.gdoc'\n",
            "'ML ideas.gdoc'\n",
            "'MLP FiM.gsheet'\n",
            " MLP.gsheet\n",
            " Mochi.gdoc\n",
            " model1.pkl\n",
            " mt2.pdf\n",
            " Music.gdoc\n",
            "'Names sportspeople.gsheet'\n",
            "'Nestell drop.gdoc'\n",
            " Neurohackademy.gdoc\n",
            " Newsletters.gdoc\n",
            " Nilearn.gslides\n",
            " No.gsheet\n",
            " Nosedive.gdoc\n",
            " Note.gdoc\n",
            "'Notes 1-20-23.gdoc'\n",
            "'Notes 8-16'\n",
            " Notes.gdoc\n",
            "'NSF notes.gdoc'\n",
            "'Nsf statement.gdoc'\n",
            " Number.gsheet\n",
            "'Number Song Titles.gdoc'\n",
            " OneDrive.gdoc\n",
            "'Ongoing Bullet Points Document.gdoc'\n",
            "'Other Things'\n",
            " Par.gdoc\n",
            " Partitions.gsheet\n",
            "'PDF 101221'\n",
            "'PDF dec1-2021'\n",
            "'PDF merge.docx'\n",
            "'PDF merge.gdoc'\n",
            "'PDF nov21'\n",
            "'People in charge.gsheet'\n",
            " Personal.gdoc\n",
            " Pg261.docx\n",
            "'Pg261 (moved to Word).gdoc'\n",
            " PGN.gdoc\n",
            " Pi.gsheet\n",
            " Pkgo1227.gdoc\n",
            " Pkgo1227.gsheet\n",
            " Pksv2023.gdoc\n",
            " Pogo.gsheet\n",
            " Poké.gdoc\n",
            "'Pokémon (1).gdoc'\n",
            " Pokémon.gdoc\n",
            "'POLS 2312 essay 1 sources.gdoc'\n",
            "'Pols 3 sources.gdoc'\n",
            "'POLS essay 1.gdoc'\n",
            "'Pols essay 2 source.gdoc'\n",
            "'Pols essay 2 write.docx'\n",
            "'Pols essay 2 write.gdoc'\n",
            "'Pols essay 3.docx'\n",
            "'Pols essay 3.gdoc'\n",
            "'POLS essay.gdoc'\n",
            "'Poly 4source.gdoc'\n",
            "'Pony Themed League.gdoc'\n",
            " Poster.gslides\n",
            "'Poster Linear.gdoc'\n",
            "'Preliminary Meeting.gslides'\n",
            "'Presentation MATH 3345.gslides'\n",
            " primebook.gsheet\n",
            "'Print for records.gdoc'\n",
            " Problem.gdoc\n",
            " Project_Data_Preprocessing.ipynb\n",
            " project.m\n",
            "'Pulitzer Prize in Music.gsheet'\n",
            " Python.gdoc\n",
            " Query.gsheet\n",
            " Questions.gdoc\n",
            "'Quest notes.gdoc'\n",
            " Quintet.gdoc\n",
            " Qwq.gdoc\n",
            "'R Code Summary.gdoc'\n",
            " Reika.gdoc\n",
            " Research.gdoc\n",
            "'Research notes 09-29-2022.gdoc'\n",
            " rest.nii\n",
            "'Resume (1).pdf'\n",
            " Resume.pdf\n",
            " Reward.gsheet\n",
            "'Rhythm Reflection.docx'\n",
            "'Rhythm Reflection.gdoc'\n",
            "'rNN extra.gdoc'\n",
            "'RNT linebreak.docx'\n",
            "'RNT linebreak.txt'\n",
            "'RNT nobreak.docx'\n",
            "'RNT nobreak.gdoc'\n",
            " Roots.gdoc\n",
            " Rostami.gdoc\n",
            "'Satire News Articles.gdoc'\n",
            " Scambaiting.gdoc\n",
            " Schwab.pdf\n",
            "'Scott Josiah.gdoc'\n",
            "'Screw around.gsheet'\n",
            " Script.gdoc\n",
            "'Sedna (1).gdoc'\n",
            " Sedna.gdoc\n",
            "'Shabbat and Festival morning SIDDUR LEV SHALEM.pdf'\n",
            " SineCurve.ipynb\n",
            " Skyrim.gdoc\n",
            "'Slides 1-28-22.gdoc'\n",
            "'Slides 1-28-22.gslides'\n",
            "'Song ideas here.gdoc'\n",
            "'sovcit case law.gdoc'\n",
            " Speaking.gdoc\n",
            "'State of our country.gdoc'\n",
            "'Successive Series.gsheet'\n",
            " SUM0001.docx\n",
            " Summary-Jul032022.docx\n",
            " Summary-Jul032022.gdoc\n",
            "'Teams (1).gsheet'\n",
            " Teams.gsheet\n",
            "'TEAMS MESSAGE 3 29.gdoc'\n",
            " Temperatures.gsheet\n",
            "'Text number.gdoc'\n",
            "'Texture Reflection.gdoc'\n",
            "'Thank_YouJason Bard_2020.docx'\n",
            " the_stars_mix_recording_for_nicholas_gurstein.wav\n",
            "'The Unreasonable Effectiveness of Recurrent Neural Networks.pdf'\n",
            " Throwaway0@usa.com.gsheet\n",
            "'Timbre Reflection.gdoc'\n",
            "'To-do list PyTorch Research.gdoc'\n",
            " TS_NYU\n",
            " TS_NYU.csv\n",
            " Twelve-Tone.gsheet\n",
            "'Two Character .com Domains.gsheet'\n",
            "'Uh oh.gdoc'\n",
            "'Untitled document (1).gdoc'\n",
            "'Untitled document (2).gdoc'\n",
            "'Untitled document (3).gdoc'\n",
            "'Untitled document (4).gdoc'\n",
            "'Untitled document (5).gdoc'\n",
            "'Untitled document (6).gdoc'\n",
            "'Untitled document.gdoc'\n",
            "'Untitled form.gform'\n",
            "'Untitled presentation.gslides'\n",
            "'Untitled spreadsheet (1).gsheet'\n",
            "'Untitled spreadsheet (2).gsheet'\n",
            "'Untitled spreadsheet (3).gsheet'\n",
            "'Untitled spreadsheet (4).gsheet'\n",
            "'Untitled spreadsheet (5).gsheet'\n",
            "'Untitled spreadsheet (6).gsheet'\n",
            "'Untitled spreadsheet.gsheet'\n",
            "'U XD q.gdoc'\n",
            " VanguardBeachTripFilmScans.zip\n",
            " VID_359440327_022114_546.MP4\n",
            "'Vid replay'\n",
            "'WESS.net - Web Enabled Survey System.pdf'\n",
            " W.gdoc\n",
            "'What is Hip.gdoc'\n",
            "'Works Cited_4b3cca66-117d-4918-9c40-e54cd1f0dd59.docx'\n",
            "'Works Cited_4b3cca66-117d-4918-9c40-e54cd1f0dd59.gdoc'\n",
            " Workspace.gsheet\n",
            " Ysi.gdoc\n"
          ]
        }
      ]
    },
    {
      "cell_type": "code",
      "source": [
        "rocklst, paperlst, scissorslst = glob.glob(\"drive/My Drive/DATA4380-project/rockpaperscissors/rock/*\"), glob.glob(\"drive/My Drive/DATA4380-project/rockpaperscissors/paper/*\"), glob.glob(\"drive/My Drive/DATA4380-project/rockpaperscissors/scissors/*\")\n",
        "#Utilizing glob to get all filenames from each of the folders"
      ],
      "metadata": {
        "id": "LOlDqrpBIxly"
      },
      "execution_count": null,
      "outputs": []
    },
    {
      "cell_type": "code",
      "source": [
        "#PIL.Image.open(rocklst[10])\n",
        "paperlst"
      ],
      "metadata": {
        "colab": {
          "base_uri": "https://localhost:8080/"
        },
        "id": "DSEpemvOJV-q",
        "outputId": "e000dc32-3314-4e59-c849-6f113fe3cf1d"
      },
      "execution_count": null,
      "outputs": [
        {
          "output_type": "execute_result",
          "data": {
            "text/plain": [
              "['drive/My Drive/DATA4380-project/rockpaperscissors/paper/04l5I8TqdzF9WDMJ.png',\n",
              " 'drive/My Drive/DATA4380-project/rockpaperscissors/paper/0Og76sl5CJhbxWWx.png',\n",
              " 'drive/My Drive/DATA4380-project/rockpaperscissors/paper/0Uomd0HvOB33m47I.png',\n",
              " 'drive/My Drive/DATA4380-project/rockpaperscissors/paper/14K62H4KG1hg5qiJ.png',\n",
              " 'drive/My Drive/DATA4380-project/rockpaperscissors/paper/1uoW7QcH2qAgCTxv.png',\n",
              " 'drive/My Drive/DATA4380-project/rockpaperscissors/paper/1jHtb93pI8f6pfKo.png',\n",
              " 'drive/My Drive/DATA4380-project/rockpaperscissors/paper/0vugygEjxQJPr9yz.png',\n",
              " 'drive/My Drive/DATA4380-project/rockpaperscissors/paper/1Dfw5FRlS4h60JPX.png',\n",
              " 'drive/My Drive/DATA4380-project/rockpaperscissors/paper/1fKclJk4eBWOQSR1.png',\n",
              " 'drive/My Drive/DATA4380-project/rockpaperscissors/paper/0t08v9bAaA0mXGCQ.png',\n",
              " 'drive/My Drive/DATA4380-project/rockpaperscissors/paper/0zKU6wEhT2cDe9j0.png',\n",
              " 'drive/My Drive/DATA4380-project/rockpaperscissors/paper/0RA9rcrv8iVvuDDU.png',\n",
              " 'drive/My Drive/DATA4380-project/rockpaperscissors/paper/0cb6cVL8pkfi4wF6.png',\n",
              " 'drive/My Drive/DATA4380-project/rockpaperscissors/paper/0a3UtNzl5Ll3sq8K.png',\n",
              " 'drive/My Drive/DATA4380-project/rockpaperscissors/paper/1Frbe8cdOdkciOBg.png',\n",
              " 'drive/My Drive/DATA4380-project/rockpaperscissors/paper/0eqArS2GgsBeqgSn.png',\n",
              " 'drive/My Drive/DATA4380-project/rockpaperscissors/paper/1oKnUgV2CdCaQUUX.png',\n",
              " 'drive/My Drive/DATA4380-project/rockpaperscissors/paper/1Tt9U9SzrOm98Xtw.png',\n",
              " 'drive/My Drive/DATA4380-project/rockpaperscissors/paper/41HC0VBlHSRhi0AG.png',\n",
              " 'drive/My Drive/DATA4380-project/rockpaperscissors/paper/3tyVmhojjwETaf1u.png',\n",
              " 'drive/My Drive/DATA4380-project/rockpaperscissors/paper/2IOsxsG8AaxntdJM.png',\n",
              " 'drive/My Drive/DATA4380-project/rockpaperscissors/paper/3K6a8bG8j1YTH1l0.png',\n",
              " 'drive/My Drive/DATA4380-project/rockpaperscissors/paper/3JN7OPsnxDBpcVeD.png',\n",
              " 'drive/My Drive/DATA4380-project/rockpaperscissors/paper/2F8Ng7620ANA7tEK.png',\n",
              " 'drive/My Drive/DATA4380-project/rockpaperscissors/paper/2UKnsncgPodQLOFR.png',\n",
              " 'drive/My Drive/DATA4380-project/rockpaperscissors/paper/27XFtQjjXQ8AP8Tl.png',\n",
              " 'drive/My Drive/DATA4380-project/rockpaperscissors/paper/3MMu7EXUtM6aEtXU.png',\n",
              " 'drive/My Drive/DATA4380-project/rockpaperscissors/paper/4484TuJc6AH7pDOG.png',\n",
              " 'drive/My Drive/DATA4380-project/rockpaperscissors/paper/2SldJqjiZwIVPef9.png',\n",
              " 'drive/My Drive/DATA4380-project/rockpaperscissors/paper/2OCAZGNv2OEzgAwU.png',\n",
              " 'drive/My Drive/DATA4380-project/rockpaperscissors/paper/3XEQ73XMn7zaww2T.png',\n",
              " 'drive/My Drive/DATA4380-project/rockpaperscissors/paper/45ho1tx7W1LZB0DU.png',\n",
              " 'drive/My Drive/DATA4380-project/rockpaperscissors/paper/2tDgPZGqbrw95j39.png',\n",
              " 'drive/My Drive/DATA4380-project/rockpaperscissors/paper/2PiUTczN5Ez4VreF.png',\n",
              " 'drive/My Drive/DATA4380-project/rockpaperscissors/paper/3tNHP8R9YHru011u.png',\n",
              " 'drive/My Drive/DATA4380-project/rockpaperscissors/paper/1yKjzquSvl9ShK7K.png',\n",
              " 'drive/My Drive/DATA4380-project/rockpaperscissors/paper/389udM70tLrMVL5H.png',\n",
              " 'drive/My Drive/DATA4380-project/rockpaperscissors/paper/3sKeYzYsjbWQVhc4.png',\n",
              " 'drive/My Drive/DATA4380-project/rockpaperscissors/paper/2DQbLQfHlfrcATqi.png',\n",
              " 'drive/My Drive/DATA4380-project/rockpaperscissors/paper/2PAcPusQ59xIMfiw.png',\n",
              " 'drive/My Drive/DATA4380-project/rockpaperscissors/paper/3YvRoN0ZGuXVWEbh.png',\n",
              " 'drive/My Drive/DATA4380-project/rockpaperscissors/paper/45OQyZuXtfNCc8Rk.png',\n",
              " 'drive/My Drive/DATA4380-project/rockpaperscissors/paper/37PRV3B9HxuUPkQr.png',\n",
              " 'drive/My Drive/DATA4380-project/rockpaperscissors/paper/1yeoLbmp4alVOtFv.png',\n",
              " 'drive/My Drive/DATA4380-project/rockpaperscissors/paper/5kJec3v9txvrAb4g.png',\n",
              " 'drive/My Drive/DATA4380-project/rockpaperscissors/paper/5Iz9WPYz1C3PKWxj.png',\n",
              " 'drive/My Drive/DATA4380-project/rockpaperscissors/paper/4fCqIVTEuFLsQMaZ.png',\n",
              " 'drive/My Drive/DATA4380-project/rockpaperscissors/paper/52nvTykEONIdmqQI.png',\n",
              " 'drive/My Drive/DATA4380-project/rockpaperscissors/paper/4bkmUMq0wOXElBIl.png',\n",
              " 'drive/My Drive/DATA4380-project/rockpaperscissors/paper/6BIKQpfZEfQkCvrz.png',\n",
              " 'drive/My Drive/DATA4380-project/rockpaperscissors/paper/5FVy5hSvZ9c0M2Y5.png',\n",
              " 'drive/My Drive/DATA4380-project/rockpaperscissors/paper/54xah1BB0YTQS3Ib.png',\n",
              " 'drive/My Drive/DATA4380-project/rockpaperscissors/paper/5jcXrtjEVtQwI0Wa.png',\n",
              " 'drive/My Drive/DATA4380-project/rockpaperscissors/paper/4Fxr7klOIfijCpio.png',\n",
              " 'drive/My Drive/DATA4380-project/rockpaperscissors/paper/5RvFm2PYoG18yIZO.png',\n",
              " 'drive/My Drive/DATA4380-project/rockpaperscissors/paper/4Pir885YNPXiRs0R.png',\n",
              " 'drive/My Drive/DATA4380-project/rockpaperscissors/paper/68QZtdP6UaIcIE55.png',\n",
              " 'drive/My Drive/DATA4380-project/rockpaperscissors/paper/4ZoU4nouZzb9G2MI.png',\n",
              " 'drive/My Drive/DATA4380-project/rockpaperscissors/paper/460WcktBwCAzsU0A.png',\n",
              " 'drive/My Drive/DATA4380-project/rockpaperscissors/paper/4aWP3XumkgwZtqZ7.png',\n",
              " 'drive/My Drive/DATA4380-project/rockpaperscissors/paper/6NzgMmSELzk3WtZh.png',\n",
              " 'drive/My Drive/DATA4380-project/rockpaperscissors/paper/5NsmQol0TP7h80bh.png',\n",
              " 'drive/My Drive/DATA4380-project/rockpaperscissors/paper/5eRezaxzYX8Canq0.png',\n",
              " 'drive/My Drive/DATA4380-project/rockpaperscissors/paper/4Bimc2E5E9jTh1Fh.png',\n",
              " 'drive/My Drive/DATA4380-project/rockpaperscissors/paper/50Wjlq1jW7o3wcl8.png',\n",
              " 'drive/My Drive/DATA4380-project/rockpaperscissors/paper/4IwJ2iL6pFz5ARWA.png',\n",
              " 'drive/My Drive/DATA4380-project/rockpaperscissors/paper/5Cy2fFOaWMFwa5iu.png',\n",
              " 'drive/My Drive/DATA4380-project/rockpaperscissors/paper/4dpYSXpjYbiH9MSq.png',\n",
              " 'drive/My Drive/DATA4380-project/rockpaperscissors/paper/4hcthlc3eCByBJFh.png',\n",
              " 'drive/My Drive/DATA4380-project/rockpaperscissors/paper/5U8st2LCr9zLl5og.png',\n",
              " 'drive/My Drive/DATA4380-project/rockpaperscissors/paper/7w91NsCtVzsPOSYB.png',\n",
              " 'drive/My Drive/DATA4380-project/rockpaperscissors/paper/7ZGsbIMypDIEZxR0.png',\n",
              " 'drive/My Drive/DATA4380-project/rockpaperscissors/paper/755DbuyE4rf2oGPA.png',\n",
              " 'drive/My Drive/DATA4380-project/rockpaperscissors/paper/74FZPuPPfVCwqHgO.png',\n",
              " 'drive/My Drive/DATA4380-project/rockpaperscissors/paper/7Vor5Uo4DweXkpE7.png',\n",
              " 'drive/My Drive/DATA4380-project/rockpaperscissors/paper/6wuALDd920vZ0qZE.png',\n",
              " 'drive/My Drive/DATA4380-project/rockpaperscissors/paper/7UoLr02FuYuLrJxz.png',\n",
              " 'drive/My Drive/DATA4380-project/rockpaperscissors/paper/7PSJU8kbZf8S6FRW.png',\n",
              " 'drive/My Drive/DATA4380-project/rockpaperscissors/paper/89dWYgfIZm624Pf6.png',\n",
              " 'drive/My Drive/DATA4380-project/rockpaperscissors/paper/8I8hrFbPPNz6qWeV.png',\n",
              " 'drive/My Drive/DATA4380-project/rockpaperscissors/paper/7YbjJFHGHPhJQFvE.png',\n",
              " 'drive/My Drive/DATA4380-project/rockpaperscissors/paper/7Px9USAD7J56woB0.png',\n",
              " 'drive/My Drive/DATA4380-project/rockpaperscissors/paper/7fRLxoheLluOwCkp.png',\n",
              " 'drive/My Drive/DATA4380-project/rockpaperscissors/paper/77rce5yVvVPIPmp8.png',\n",
              " 'drive/My Drive/DATA4380-project/rockpaperscissors/paper/84JL84r6Jcpp5Udi.png',\n",
              " 'drive/My Drive/DATA4380-project/rockpaperscissors/paper/6ycslJxTsTjZc5H2.png',\n",
              " 'drive/My Drive/DATA4380-project/rockpaperscissors/paper/7L3Xke8iQBzywEPH.png',\n",
              " 'drive/My Drive/DATA4380-project/rockpaperscissors/paper/7IYZ788SAadhvemj.png',\n",
              " 'drive/My Drive/DATA4380-project/rockpaperscissors/paper/7I1fABs6SL1T4MNb.png',\n",
              " 'drive/My Drive/DATA4380-project/rockpaperscissors/paper/7NyxZyxSJ1gphzUE.png',\n",
              " 'drive/My Drive/DATA4380-project/rockpaperscissors/paper/73UfZ8Dwj0OB66IV.png',\n",
              " 'drive/My Drive/DATA4380-project/rockpaperscissors/paper/6OhEpnz0QxBCfbXE.png',\n",
              " 'drive/My Drive/DATA4380-project/rockpaperscissors/paper/6q2PxM8Kk16UxoMY.png',\n",
              " 'drive/My Drive/DATA4380-project/rockpaperscissors/paper/821xYeW8U0Iy6qVX.png',\n",
              " 'drive/My Drive/DATA4380-project/rockpaperscissors/paper/7v943QrV87m1Fx5U.png',\n",
              " 'drive/My Drive/DATA4380-project/rockpaperscissors/paper/9szmJOWlXxEbjDGV.png',\n",
              " 'drive/My Drive/DATA4380-project/rockpaperscissors/paper/9GnoYJhsreNoV2Wn.png',\n",
              " 'drive/My Drive/DATA4380-project/rockpaperscissors/paper/8cUuoeM7qSsAGoOv.png',\n",
              " 'drive/My Drive/DATA4380-project/rockpaperscissors/paper/9qKKOliWXD7oDZOd.png',\n",
              " 'drive/My Drive/DATA4380-project/rockpaperscissors/paper/ACUZLBMxCu3AWgUu.png',\n",
              " 'drive/My Drive/DATA4380-project/rockpaperscissors/paper/9v75qnx8zdeAAOq6.png',\n",
              " 'drive/My Drive/DATA4380-project/rockpaperscissors/paper/9hKJu3ZMso4Qbtfh.png',\n",
              " 'drive/My Drive/DATA4380-project/rockpaperscissors/paper/9OyGmAsWD5Ie6QIa.png',\n",
              " 'drive/My Drive/DATA4380-project/rockpaperscissors/paper/9Dto1OCNf5wjYimE.png',\n",
              " 'drive/My Drive/DATA4380-project/rockpaperscissors/paper/8vCpdCGSnX8CopJJ.png',\n",
              " 'drive/My Drive/DATA4380-project/rockpaperscissors/paper/9RmM1chbNsDKXXlg.png',\n",
              " 'drive/My Drive/DATA4380-project/rockpaperscissors/paper/90GH8JQWUw9PUnlA.png',\n",
              " 'drive/My Drive/DATA4380-project/rockpaperscissors/paper/AMewmfMVCnLfbuNr.png',\n",
              " 'drive/My Drive/DATA4380-project/rockpaperscissors/paper/9xyvz1JbPwNqtLgH.png',\n",
              " 'drive/My Drive/DATA4380-project/rockpaperscissors/paper/8NNPWO3e2oNq8lg9.png',\n",
              " 'drive/My Drive/DATA4380-project/rockpaperscissors/paper/9zuFLFklb0ibEelE.png',\n",
              " 'drive/My Drive/DATA4380-project/rockpaperscissors/paper/9zfyVkUcku0qc4Gu.png',\n",
              " 'drive/My Drive/DATA4380-project/rockpaperscissors/paper/9rwmakEj6Wg1YQWW.png',\n",
              " 'drive/My Drive/DATA4380-project/rockpaperscissors/paper/9giVcOVtFf85mQZd.png',\n",
              " 'drive/My Drive/DATA4380-project/rockpaperscissors/paper/9bQFlg61mt0akPoM.png',\n",
              " 'drive/My Drive/DATA4380-project/rockpaperscissors/paper/9yGlnLxGtzq1gJti.png',\n",
              " 'drive/My Drive/DATA4380-project/rockpaperscissors/paper/A0Dgq561RAiluT9p.png',\n",
              " 'drive/My Drive/DATA4380-project/rockpaperscissors/paper/8X1BUL9w2OMExPy5.png',\n",
              " 'drive/My Drive/DATA4380-project/rockpaperscissors/paper/9WQaDoiIDC4zGPr8.png',\n",
              " 'drive/My Drive/DATA4380-project/rockpaperscissors/paper/8q4xxTvBVnXTRSQy.png',\n",
              " 'drive/My Drive/DATA4380-project/rockpaperscissors/paper/8qhPJIViAhfZTJkA.png',\n",
              " 'drive/My Drive/DATA4380-project/rockpaperscissors/paper/ATs4aFUIODixPnMI.png',\n",
              " 'drive/My Drive/DATA4380-project/rockpaperscissors/paper/BH9zAUdmmjlfXwtS.png',\n",
              " 'drive/My Drive/DATA4380-project/rockpaperscissors/paper/AjwddXm0ttm7Ts5J.png',\n",
              " 'drive/My Drive/DATA4380-project/rockpaperscissors/paper/AfvIbTwxuG0q7Ij1.png',\n",
              " 'drive/My Drive/DATA4380-project/rockpaperscissors/paper/C3j6RdTEo4jf6Cr4.png',\n",
              " 'drive/My Drive/DATA4380-project/rockpaperscissors/paper/BqGdYFfhQ4sOU5Xl.png',\n",
              " 'drive/My Drive/DATA4380-project/rockpaperscissors/paper/AYfr1pZxmZyZaXWu.png',\n",
              " 'drive/My Drive/DATA4380-project/rockpaperscissors/paper/BTG0fjXM09DyD4sh.png',\n",
              " 'drive/My Drive/DATA4380-project/rockpaperscissors/paper/B6dJfDThlXx80Uk6.png',\n",
              " 'drive/My Drive/DATA4380-project/rockpaperscissors/paper/B08mrGoODd5gGTvu.png',\n",
              " 'drive/My Drive/DATA4380-project/rockpaperscissors/paper/C7zCG474LseZgn8o.png',\n",
              " 'drive/My Drive/DATA4380-project/rockpaperscissors/paper/Af7KstxKjdhzUQyk.png',\n",
              " 'drive/My Drive/DATA4380-project/rockpaperscissors/paper/Arbkrts1pXpDNgFV.png',\n",
              " 'drive/My Drive/DATA4380-project/rockpaperscissors/paper/AtfMvZ19yfJJZapD.png',\n",
              " 'drive/My Drive/DATA4380-project/rockpaperscissors/paper/BfFGJgByTJnxADwA.png',\n",
              " 'drive/My Drive/DATA4380-project/rockpaperscissors/paper/B9WSmSgclFPB3TOL.png',\n",
              " 'drive/My Drive/DATA4380-project/rockpaperscissors/paper/BI9YnLkJ5wFZe6w8.png',\n",
              " 'drive/My Drive/DATA4380-project/rockpaperscissors/paper/B3dlyiRDulDJWOsW.png',\n",
              " 'drive/My Drive/DATA4380-project/rockpaperscissors/paper/C0WynzBAhXQGSywJ.png',\n",
              " 'drive/My Drive/DATA4380-project/rockpaperscissors/paper/AqNY2b7NX9Ce3CjZ.png',\n",
              " 'drive/My Drive/DATA4380-project/rockpaperscissors/paper/BVfw3Er2AUBqREYJ.png',\n",
              " 'drive/My Drive/DATA4380-project/rockpaperscissors/paper/B9PzXQbhzehhxFRN.png',\n",
              " 'drive/My Drive/DATA4380-project/rockpaperscissors/paper/BLqL31aC5YLmx3uF.png',\n",
              " 'drive/My Drive/DATA4380-project/rockpaperscissors/paper/C5LDaiOquQm9mDVH.png',\n",
              " 'drive/My Drive/DATA4380-project/rockpaperscissors/paper/BoMfAmQYWtoiGHBV.png',\n",
              " 'drive/My Drive/DATA4380-project/rockpaperscissors/paper/BoXJ7o2SeSRRfuAH.png',\n",
              " 'drive/My Drive/DATA4380-project/rockpaperscissors/paper/BbOoLEGslGMBu7sj.png',\n",
              " 'drive/My Drive/DATA4380-project/rockpaperscissors/paper/Dvamqz9JlSMySW1i.png',\n",
              " 'drive/My Drive/DATA4380-project/rockpaperscissors/paper/D9nbrQLDSgDMNh3G.png',\n",
              " 'drive/My Drive/DATA4380-project/rockpaperscissors/paper/DOuDihjhzIuZ2skd.png',\n",
              " 'drive/My Drive/DATA4380-project/rockpaperscissors/paper/CbiqUiChqkXHb8jk.png',\n",
              " 'drive/My Drive/DATA4380-project/rockpaperscissors/paper/Cto0fRvS0ns9lVrs.png',\n",
              " 'drive/My Drive/DATA4380-project/rockpaperscissors/paper/C9tAvywdtjDTnllg.png',\n",
              " 'drive/My Drive/DATA4380-project/rockpaperscissors/paper/Di7hVJMSS3DzbSTi.png',\n",
              " 'drive/My Drive/DATA4380-project/rockpaperscissors/paper/CrEzO2508GiIMFrx.png',\n",
              " 'drive/My Drive/DATA4380-project/rockpaperscissors/paper/DsaaqkHZUN3pmcwH.png',\n",
              " 'drive/My Drive/DATA4380-project/rockpaperscissors/paper/ClP1hwm5k2IQsG1B.png',\n",
              " 'drive/My Drive/DATA4380-project/rockpaperscissors/paper/DGR6Jkl5GJY9Sez0.png',\n",
              " 'drive/My Drive/DATA4380-project/rockpaperscissors/paper/CnRjJejRPD3QmYTl.png',\n",
              " 'drive/My Drive/DATA4380-project/rockpaperscissors/paper/DBriMZZSZtYea72l.png',\n",
              " 'drive/My Drive/DATA4380-project/rockpaperscissors/paper/COmibsBioPBur0V9.png',\n",
              " 'drive/My Drive/DATA4380-project/rockpaperscissors/paper/E4TyifCgPm6OwcrY.png',\n",
              " 'drive/My Drive/DATA4380-project/rockpaperscissors/paper/D3mbFhVy7zFkZEtV.png',\n",
              " 'drive/My Drive/DATA4380-project/rockpaperscissors/paper/DDHIkmyeaJPV7k0A.png',\n",
              " 'drive/My Drive/DATA4380-project/rockpaperscissors/paper/E10FR2TKbBsv9Hgm.png',\n",
              " 'drive/My Drive/DATA4380-project/rockpaperscissors/paper/Cx9G4YyKPI9MPcqp.png',\n",
              " 'drive/My Drive/DATA4380-project/rockpaperscissors/paper/DE5gewqrqzSaVsdI.png',\n",
              " 'drive/My Drive/DATA4380-project/rockpaperscissors/paper/CJ3BCSOVp8uzaPnY.png',\n",
              " 'drive/My Drive/DATA4380-project/rockpaperscissors/paper/CIN4oPYURMvc4xTb.png',\n",
              " 'drive/My Drive/DATA4380-project/rockpaperscissors/paper/CwFaCN3ykqwQ6KZV.png',\n",
              " 'drive/My Drive/DATA4380-project/rockpaperscissors/paper/CHf3O6SDtuPbbD0s.png',\n",
              " 'drive/My Drive/DATA4380-project/rockpaperscissors/paper/EJ42U85HcmJV7JVm.png',\n",
              " 'drive/My Drive/DATA4380-project/rockpaperscissors/paper/CpDMCILKUN2AUA1A.png',\n",
              " 'drive/My Drive/DATA4380-project/rockpaperscissors/paper/CxcQ3XRBjkkmZ9b8.png',\n",
              " 'drive/My Drive/DATA4380-project/rockpaperscissors/paper/G4QepYlFnpE8Zse4.png',\n",
              " 'drive/My Drive/DATA4380-project/rockpaperscissors/paper/Ec6WrF6Soj4REPk7.png',\n",
              " 'drive/My Drive/DATA4380-project/rockpaperscissors/paper/Gc4hUsoFAQBdulGg.png',\n",
              " 'drive/My Drive/DATA4380-project/rockpaperscissors/paper/FltCm1ep2lcnsOYz.png',\n",
              " 'drive/My Drive/DATA4380-project/rockpaperscissors/paper/FxLuxwBp9Hw2th2O.png',\n",
              " 'drive/My Drive/DATA4380-project/rockpaperscissors/paper/FJoRrTDakCLyWs75.png',\n",
              " 'drive/My Drive/DATA4380-project/rockpaperscissors/paper/Eq9tohFHMpYXWQZH.png',\n",
              " 'drive/My Drive/DATA4380-project/rockpaperscissors/paper/H8n0niVYdIGNGE0d.png',\n",
              " 'drive/My Drive/DATA4380-project/rockpaperscissors/paper/FKhLHIIqEsYmoZxy.png',\n",
              " 'drive/My Drive/DATA4380-project/rockpaperscissors/paper/FwR0aXsgOZ5KHDjH.png',\n",
              " 'drive/My Drive/DATA4380-project/rockpaperscissors/paper/FT9FiK5l1lohzfxI.png',\n",
              " 'drive/My Drive/DATA4380-project/rockpaperscissors/paper/FEdPo8Z0t3bB1hHC.png',\n",
              " 'drive/My Drive/DATA4380-project/rockpaperscissors/paper/GelC88IvDZoRejHp.png',\n",
              " 'drive/My Drive/DATA4380-project/rockpaperscissors/paper/FcIIjteQItMuIuRa.png',\n",
              " 'drive/My Drive/DATA4380-project/rockpaperscissors/paper/HIo7Eax3OPP5MuXl.png',\n",
              " 'drive/My Drive/DATA4380-project/rockpaperscissors/paper/Ea6A81oe4Ria2MW3.png',\n",
              " 'drive/My Drive/DATA4380-project/rockpaperscissors/paper/EuU83pQABhf4v0AF.png',\n",
              " 'drive/My Drive/DATA4380-project/rockpaperscissors/paper/FVEAFUE9uhfJPi2f.png',\n",
              " 'drive/My Drive/DATA4380-project/rockpaperscissors/paper/H8cGdqeAOdIyIMO5.png',\n",
              " 'drive/My Drive/DATA4380-project/rockpaperscissors/paper/EVtIRpfQ2ys2A3ag.png',\n",
              " 'drive/My Drive/DATA4380-project/rockpaperscissors/paper/HQSUE6P23pvLctuy.png',\n",
              " 'drive/My Drive/DATA4380-project/rockpaperscissors/paper/FqTkhXfEVeaGHReH.png',\n",
              " 'drive/My Drive/DATA4380-project/rockpaperscissors/paper/Gv71lr2m5b9rBwPy.png',\n",
              " 'drive/My Drive/DATA4380-project/rockpaperscissors/paper/FmDdvclwy9Wc1zfc.png',\n",
              " 'drive/My Drive/DATA4380-project/rockpaperscissors/paper/EJ7cNnnea5yCEaOd.png',\n",
              " 'drive/My Drive/DATA4380-project/rockpaperscissors/paper/Httje79JB2p6ePf0.png',\n",
              " 'drive/My Drive/DATA4380-project/rockpaperscissors/paper/HarpXSxVfoAJ9cFe.png',\n",
              " 'drive/My Drive/DATA4380-project/rockpaperscissors/paper/Ht08RX3DQCSdl9Sy.png',\n",
              " 'drive/My Drive/DATA4380-project/rockpaperscissors/paper/JDZ86cNk15r0NTi6.png',\n",
              " 'drive/My Drive/DATA4380-project/rockpaperscissors/paper/JOsGCJTsKvKGNHN1.png',\n",
              " 'drive/My Drive/DATA4380-project/rockpaperscissors/paper/HTETrKtTEB31pvsK.png',\n",
              " 'drive/My Drive/DATA4380-project/rockpaperscissors/paper/HTSIUeIA1IQrHtHu.png',\n",
              " 'drive/My Drive/DATA4380-project/rockpaperscissors/paper/Ih5Z5Z3xFZ17IcZS.png',\n",
              " 'drive/My Drive/DATA4380-project/rockpaperscissors/paper/IXh9BTFQQ6AIaBpr.png',\n",
              " 'drive/My Drive/DATA4380-project/rockpaperscissors/paper/HvQdmFU7Qzd4SSQ4.png',\n",
              " 'drive/My Drive/DATA4380-project/rockpaperscissors/paper/IQsx834hZ2POqopO.png',\n",
              " 'drive/My Drive/DATA4380-project/rockpaperscissors/paper/HYIh5ipF4bN1futQ.png',\n",
              " 'drive/My Drive/DATA4380-project/rockpaperscissors/paper/IxQ1CVKgnpiD0HfY.png',\n",
              " 'drive/My Drive/DATA4380-project/rockpaperscissors/paper/IlrxPx0XNL2QslmW.png',\n",
              " 'drive/My Drive/DATA4380-project/rockpaperscissors/paper/HyLg8tH9blwT6eVy.png',\n",
              " 'drive/My Drive/DATA4380-project/rockpaperscissors/paper/IKy6sz5i68TYNJH6.png',\n",
              " 'drive/My Drive/DATA4380-project/rockpaperscissors/paper/HkBUo9kQDJho4uor.png',\n",
              " 'drive/My Drive/DATA4380-project/rockpaperscissors/paper/HXxUlm3O2djcDgUR.png',\n",
              " 'drive/My Drive/DATA4380-project/rockpaperscissors/paper/HbBcQItQ6d5yMDqL.png',\n",
              " 'drive/My Drive/DATA4380-project/rockpaperscissors/paper/JApmimWQx0vFx1qw.png',\n",
              " 'drive/My Drive/DATA4380-project/rockpaperscissors/paper/HU7Q4utMI0vHMxlh.png',\n",
              " 'drive/My Drive/DATA4380-project/rockpaperscissors/paper/JFOcfFSm3Ul0Xkha.png',\n",
              " 'drive/My Drive/DATA4380-project/rockpaperscissors/paper/ISW7mRK3Wu6ik0eH.png',\n",
              " 'drive/My Drive/DATA4380-project/rockpaperscissors/paper/IkSLcJtq4O6iBmE4.png',\n",
              " 'drive/My Drive/DATA4380-project/rockpaperscissors/paper/HuunhhoTMXTrST2Z.png',\n",
              " 'drive/My Drive/DATA4380-project/rockpaperscissors/paper/JKN8VKp7pfMEQdBZ.png',\n",
              " 'drive/My Drive/DATA4380-project/rockpaperscissors/paper/Klcu8qBjVs676hic.png',\n",
              " 'drive/My Drive/DATA4380-project/rockpaperscissors/paper/KqCGmJ8WCrqE5Uvg.png',\n",
              " 'drive/My Drive/DATA4380-project/rockpaperscissors/paper/JZ8KCFK6y0Zd87Xl.png',\n",
              " 'drive/My Drive/DATA4380-project/rockpaperscissors/paper/JbnPCQTbu7AS9jvo.png',\n",
              " 'drive/My Drive/DATA4380-project/rockpaperscissors/paper/LEA78quc0fi2hq9W.png',\n",
              " 'drive/My Drive/DATA4380-project/rockpaperscissors/paper/JRZTPL2YQ6cfIMh9.png',\n",
              " 'drive/My Drive/DATA4380-project/rockpaperscissors/paper/KAyKztBfGIWm4qN7.png',\n",
              " 'drive/My Drive/DATA4380-project/rockpaperscissors/paper/LI47bUY9rR60z73q.png',\n",
              " 'drive/My Drive/DATA4380-project/rockpaperscissors/paper/KGiyDw5Ryx3WjjSZ.png',\n",
              " 'drive/My Drive/DATA4380-project/rockpaperscissors/paper/KSueOZE0QWbJClvK.png',\n",
              " 'drive/My Drive/DATA4380-project/rockpaperscissors/paper/LAhqdrhPNg3ZLxpr.png',\n",
              " 'drive/My Drive/DATA4380-project/rockpaperscissors/paper/KJ77yLPN943SrPZW.png',\n",
              " 'drive/My Drive/DATA4380-project/rockpaperscissors/paper/KAoLE5XBuwjmtKj2.png',\n",
              " 'drive/My Drive/DATA4380-project/rockpaperscissors/paper/JQaNQ7LsPy3cY23Q.png',\n",
              " 'drive/My Drive/DATA4380-project/rockpaperscissors/paper/KHfp6LJDEhqbcomR.png',\n",
              " 'drive/My Drive/DATA4380-project/rockpaperscissors/paper/L2oIlMxDTToJYUvV.png',\n",
              " 'drive/My Drive/DATA4380-project/rockpaperscissors/paper/JsryGUQahbbNkrlP.png',\n",
              " 'drive/My Drive/DATA4380-project/rockpaperscissors/paper/JlMP0YH6vhxWRMZz.png',\n",
              " 'drive/My Drive/DATA4380-project/rockpaperscissors/paper/K6IACWoiTOnGR9Np.png',\n",
              " 'drive/My Drive/DATA4380-project/rockpaperscissors/paper/JUn3VuVCoOKC5Nv2.png',\n",
              " 'drive/My Drive/DATA4380-project/rockpaperscissors/paper/L2S17RtFi8XXp6b8.png',\n",
              " 'drive/My Drive/DATA4380-project/rockpaperscissors/paper/K8WJMHr1iCttaMbB.png',\n",
              " 'drive/My Drive/DATA4380-project/rockpaperscissors/paper/KPJ371erJ0RUKNAX.png',\n",
              " 'drive/My Drive/DATA4380-project/rockpaperscissors/paper/Je4YZuaXlY4KaAfQ.png',\n",
              " 'drive/My Drive/DATA4380-project/rockpaperscissors/paper/KOlOsNsrUdQonYpp.png',\n",
              " 'drive/My Drive/DATA4380-project/rockpaperscissors/paper/LYirpnRmbCGN6T7O.png',\n",
              " 'drive/My Drive/DATA4380-project/rockpaperscissors/paper/JsrOSaR3txTRu3I9.png',\n",
              " 'drive/My Drive/DATA4380-project/rockpaperscissors/paper/M4h0o8DAzyOpmgSM.png',\n",
              " 'drive/My Drive/DATA4380-project/rockpaperscissors/paper/Lwd11NDu17odCiv7.png',\n",
              " 'drive/My Drive/DATA4380-project/rockpaperscissors/paper/LpASHQ03atiBeyRw.png',\n",
              " 'drive/My Drive/DATA4380-project/rockpaperscissors/paper/LqxEdPczGbYd9Zlu.png',\n",
              " 'drive/My Drive/DATA4380-project/rockpaperscissors/paper/LhgH8QOKfA5xu287.png',\n",
              " 'drive/My Drive/DATA4380-project/rockpaperscissors/paper/MKnNPdRtHfgr6ZbI.png',\n",
              " 'drive/My Drive/DATA4380-project/rockpaperscissors/paper/Lmx5I567tGyQ9HYi.png',\n",
              " 'drive/My Drive/DATA4380-project/rockpaperscissors/paper/MJAUydLSEPqZHwPz.png',\n",
              " 'drive/My Drive/DATA4380-project/rockpaperscissors/paper/NLwrHPTaiNSMjHLX.png',\n",
              " 'drive/My Drive/DATA4380-project/rockpaperscissors/paper/Lq77eAG8OPaizwEd.png',\n",
              " 'drive/My Drive/DATA4380-project/rockpaperscissors/paper/MKe2ciaSOmdDH1JK.png',\n",
              " 'drive/My Drive/DATA4380-project/rockpaperscissors/paper/MLURv7NBoSPK4f1h.png',\n",
              " 'drive/My Drive/DATA4380-project/rockpaperscissors/paper/LkNkNVjTRm5Gr9NQ.png',\n",
              " 'drive/My Drive/DATA4380-project/rockpaperscissors/paper/LrVULgPLsLsfdZ2z.png',\n",
              " 'drive/My Drive/DATA4380-project/rockpaperscissors/paper/N3RjXoHuCkTs2Prd.png',\n",
              " 'drive/My Drive/DATA4380-project/rockpaperscissors/paper/NKNFgMn2Ik3Y9XuX.png',\n",
              " 'drive/My Drive/DATA4380-project/rockpaperscissors/paper/Lui3J5YhKgMvk673.png',\n",
              " 'drive/My Drive/DATA4380-project/rockpaperscissors/paper/MBCdeYSw1CGsIlHf.png',\n",
              " 'drive/My Drive/DATA4380-project/rockpaperscissors/paper/Mv6oOH192gse3oZA.png',\n",
              " 'drive/My Drive/DATA4380-project/rockpaperscissors/paper/N5JmBjeptZ3hK3EK.png',\n",
              " 'drive/My Drive/DATA4380-project/rockpaperscissors/paper/Miw8prUoiVMVG2D4.png',\n",
              " 'drive/My Drive/DATA4380-project/rockpaperscissors/paper/Mq8Ym2axOJVIthiP.png',\n",
              " 'drive/My Drive/DATA4380-project/rockpaperscissors/paper/MLrUGD1graoSw2c5.png',\n",
              " 'drive/My Drive/DATA4380-project/rockpaperscissors/paper/MnvVVMoqDmzrm5NJ.png',\n",
              " 'drive/My Drive/DATA4380-project/rockpaperscissors/paper/N4D5tleMLbP1Au5D.png',\n",
              " 'drive/My Drive/DATA4380-project/rockpaperscissors/paper/MmzlgKI366LYX3fe.png',\n",
              " 'drive/My Drive/DATA4380-project/rockpaperscissors/paper/OMq2VJyb0KwtdwDc.png',\n",
              " 'drive/My Drive/DATA4380-project/rockpaperscissors/paper/PTjpGk2rKf6mhx9z.png',\n",
              " 'drive/My Drive/DATA4380-project/rockpaperscissors/paper/Om6b4BvZS49QNNFV.png',\n",
              " 'drive/My Drive/DATA4380-project/rockpaperscissors/paper/OdfDTwgPVdW9XbE7.png',\n",
              " 'drive/My Drive/DATA4380-project/rockpaperscissors/paper/PZrfX01MvfB3oeyB.png',\n",
              " 'drive/My Drive/DATA4380-project/rockpaperscissors/paper/NnWvTxntBJ5mFY73.png',\n",
              " 'drive/My Drive/DATA4380-project/rockpaperscissors/paper/NwbFl4nQqE5pm5PZ.png',\n",
              " 'drive/My Drive/DATA4380-project/rockpaperscissors/paper/OJpDyt2u6zzfoVP0.png',\n",
              " 'drive/My Drive/DATA4380-project/rockpaperscissors/paper/O0fq1v7s6qxN8o9L.png',\n",
              " 'drive/My Drive/DATA4380-project/rockpaperscissors/paper/OSEIPDjPzHw3gKjc.png',\n",
              " 'drive/My Drive/DATA4380-project/rockpaperscissors/paper/P0BIztnCzZ3StLD1.png',\n",
              " 'drive/My Drive/DATA4380-project/rockpaperscissors/paper/OXA4uaaO7YUkxjSJ.png',\n",
              " 'drive/My Drive/DATA4380-project/rockpaperscissors/paper/Q8idpb4gCSAWs9YH.png',\n",
              " 'drive/My Drive/DATA4380-project/rockpaperscissors/paper/PbqPTUSB4HxBVDZZ.png',\n",
              " 'drive/My Drive/DATA4380-project/rockpaperscissors/paper/PwkqvoT0noMITNaF.png',\n",
              " 'drive/My Drive/DATA4380-project/rockpaperscissors/paper/ObnNNP8S6dH3IxIS.png',\n",
              " 'drive/My Drive/DATA4380-project/rockpaperscissors/paper/OEFttKrmyc4bGb54.png',\n",
              " 'drive/My Drive/DATA4380-project/rockpaperscissors/paper/O4H6QPX8bdwNiIie.png',\n",
              " 'drive/My Drive/DATA4380-project/rockpaperscissors/paper/NS5CJKNsJa9jr5j4.png',\n",
              " 'drive/My Drive/DATA4380-project/rockpaperscissors/paper/P1STllnKDD05zo29.png',\n",
              " 'drive/My Drive/DATA4380-project/rockpaperscissors/paper/OhkFvTOiBqphyG0I.png',\n",
              " 'drive/My Drive/DATA4380-project/rockpaperscissors/paper/Nm8PHXHrGlZy0d6Q.png',\n",
              " 'drive/My Drive/DATA4380-project/rockpaperscissors/paper/PLvidx6rZDuRENbv.png',\n",
              " 'drive/My Drive/DATA4380-project/rockpaperscissors/paper/PaZSkEO4jbBp3Hz7.png',\n",
              " 'drive/My Drive/DATA4380-project/rockpaperscissors/paper/PDV8vSlSFdej3jNx.png',\n",
              " 'drive/My Drive/DATA4380-project/rockpaperscissors/paper/QLXEsveWG3vywKfy.png',\n",
              " 'drive/My Drive/DATA4380-project/rockpaperscissors/paper/RJrQJX31bej6flMr.png',\n",
              " 'drive/My Drive/DATA4380-project/rockpaperscissors/paper/QQksMNb2czxqfTF8.png',\n",
              " 'drive/My Drive/DATA4380-project/rockpaperscissors/paper/QUcJ1QclQwOY50vY.png',\n",
              " 'drive/My Drive/DATA4380-project/rockpaperscissors/paper/R2Hq3bL46kah8D9n.png',\n",
              " 'drive/My Drive/DATA4380-project/rockpaperscissors/paper/QWT9FOhLABPyKIUA.png',\n",
              " 'drive/My Drive/DATA4380-project/rockpaperscissors/paper/Qxx5l8WCNBjMb5xI.png',\n",
              " 'drive/My Drive/DATA4380-project/rockpaperscissors/paper/Qbn4RJqessetWPHR.png',\n",
              " 'drive/My Drive/DATA4380-project/rockpaperscissors/paper/QCqvYDzuP0z3omox.png',\n",
              " 'drive/My Drive/DATA4380-project/rockpaperscissors/paper/QCHltvmva5vmGrPo.png',\n",
              " 'drive/My Drive/DATA4380-project/rockpaperscissors/paper/QKFJL22hutlivVGa.png',\n",
              " 'drive/My Drive/DATA4380-project/rockpaperscissors/paper/QVIiXr87PkeldzZM.png',\n",
              " 'drive/My Drive/DATA4380-project/rockpaperscissors/paper/RFXW2X1DlH7xboth.png',\n",
              " 'drive/My Drive/DATA4380-project/rockpaperscissors/paper/RmJmYq6VCNrrvi2l.png',\n",
              " 'drive/My Drive/DATA4380-project/rockpaperscissors/paper/RQ78Zpf7uYHXCYcb.png',\n",
              " 'drive/My Drive/DATA4380-project/rockpaperscissors/paper/RW8BP64V5NC04QWf.png',\n",
              " 'drive/My Drive/DATA4380-project/rockpaperscissors/paper/QZtii0ogsjl6hxun.png',\n",
              " 'drive/My Drive/DATA4380-project/rockpaperscissors/paper/QnjBVl6cFnyd2hVF.png',\n",
              " 'drive/My Drive/DATA4380-project/rockpaperscissors/paper/R7y8PxDKzaAd0uUQ.png',\n",
              " 'drive/My Drive/DATA4380-project/rockpaperscissors/paper/QASICiZe79sFTXBz.png',\n",
              " 'drive/My Drive/DATA4380-project/rockpaperscissors/paper/QVFB67Eza3BCNeRY.png',\n",
              " 'drive/My Drive/DATA4380-project/rockpaperscissors/paper/RqdXcCyqmXMxSDxn.png',\n",
              " 'drive/My Drive/DATA4380-project/rockpaperscissors/paper/RlpqfQnTgM6AxUNs.png',\n",
              " 'drive/My Drive/DATA4380-project/rockpaperscissors/paper/RmTijOM3U31zKnrY.png',\n",
              " 'drive/My Drive/DATA4380-project/rockpaperscissors/paper/QqPSoi6Vj2Vbua3V.png',\n",
              " 'drive/My Drive/DATA4380-project/rockpaperscissors/paper/Qx31hf6YWyFs6Mu7.png',\n",
              " 'drive/My Drive/DATA4380-project/rockpaperscissors/paper/Tgy8eMKf7vZc4Eib.png',\n",
              " 'drive/My Drive/DATA4380-project/rockpaperscissors/paper/TnoLyTMw8xPdz0ck.png',\n",
              " 'drive/My Drive/DATA4380-project/rockpaperscissors/paper/UE6Ao0ZqJbQ1R1R5.png',\n",
              " 'drive/My Drive/DATA4380-project/rockpaperscissors/paper/SDQQfzHl47yNqA6K.png',\n",
              " 'drive/My Drive/DATA4380-project/rockpaperscissors/paper/StyclBeCFwYGuttl.png',\n",
              " 'drive/My Drive/DATA4380-project/rockpaperscissors/paper/U2InMVDH10R24eOb.png',\n",
              " 'drive/My Drive/DATA4380-project/rockpaperscissors/paper/U3XlUGS4C4YGpjGP.png',\n",
              " 'drive/My Drive/DATA4380-project/rockpaperscissors/paper/TmPdVzKg9yHUefja.png',\n",
              " 'drive/My Drive/DATA4380-project/rockpaperscissors/paper/UGHu0zv6pWOmgBWn.png',\n",
              " 'drive/My Drive/DATA4380-project/rockpaperscissors/paper/SPx9aUguwNqxqPVS.png',\n",
              " 'drive/My Drive/DATA4380-project/rockpaperscissors/paper/SjtYrw48VCBOLOQh.png',\n",
              " 'drive/My Drive/DATA4380-project/rockpaperscissors/paper/Su03KsBNHrCVUXli.png',\n",
              " 'drive/My Drive/DATA4380-project/rockpaperscissors/paper/U5WsclDnMxnOTgGT.png',\n",
              " 'drive/My Drive/DATA4380-project/rockpaperscissors/paper/SjE9MULuPPnbplHT.png',\n",
              " 'drive/My Drive/DATA4380-project/rockpaperscissors/paper/TYjJigXjEyiVntzx.png',\n",
              " 'drive/My Drive/DATA4380-project/rockpaperscissors/paper/TcybcTuKdMPA4xpT.png',\n",
              " 'drive/My Drive/DATA4380-project/rockpaperscissors/paper/TzhAea8QXqJwqpUY.png',\n",
              " 'drive/My Drive/DATA4380-project/rockpaperscissors/paper/SsvKZDW23vRQMUtA.png',\n",
              " 'drive/My Drive/DATA4380-project/rockpaperscissors/paper/TstngIvuLJt0GIze.png',\n",
              " 'drive/My Drive/DATA4380-project/rockpaperscissors/paper/TlnoQ46NyW8oZV07.png',\n",
              " 'drive/My Drive/DATA4380-project/rockpaperscissors/paper/Rxmuq5Y6dw22QESt.png',\n",
              " 'drive/My Drive/DATA4380-project/rockpaperscissors/paper/SoqluLecSTBcuyoS.png',\n",
              " 'drive/My Drive/DATA4380-project/rockpaperscissors/paper/RtFKKjIDZ0zA0khp.png',\n",
              " 'drive/My Drive/DATA4380-project/rockpaperscissors/paper/SrSUeH255dybz2zi.png',\n",
              " 'drive/My Drive/DATA4380-project/rockpaperscissors/paper/SboHPaPEPBqkkTUX.png',\n",
              " 'drive/My Drive/DATA4380-project/rockpaperscissors/paper/UCZlOkcylNYU2ylP.png',\n",
              " 'drive/My Drive/DATA4380-project/rockpaperscissors/paper/VstDOeRm7czrAOO9.png',\n",
              " 'drive/My Drive/DATA4380-project/rockpaperscissors/paper/UvFHqrnEwsrs6MgC.png',\n",
              " 'drive/My Drive/DATA4380-project/rockpaperscissors/paper/WOMFIvaWB3TEY6Gl.png',\n",
              " 'drive/My Drive/DATA4380-project/rockpaperscissors/paper/UHyVkisiFMmasl7b.png',\n",
              " 'drive/My Drive/DATA4380-project/rockpaperscissors/paper/UN3iCDyiEIteIMdx.png',\n",
              " 'drive/My Drive/DATA4380-project/rockpaperscissors/paper/VfIYGbOFu36N6MDw.png',\n",
              " 'drive/My Drive/DATA4380-project/rockpaperscissors/paper/V3Z0tEoM7Cq761eZ.png',\n",
              " 'drive/My Drive/DATA4380-project/rockpaperscissors/paper/W79peyAyfQqNP1vF.png',\n",
              " 'drive/My Drive/DATA4380-project/rockpaperscissors/paper/UJXhVbWUgUnzedxP.png',\n",
              " 'drive/My Drive/DATA4380-project/rockpaperscissors/paper/UOW45qbyvti8nBHV.png',\n",
              " 'drive/My Drive/DATA4380-project/rockpaperscissors/paper/UVuauoFm9Pk5JJre.png',\n",
              " 'drive/My Drive/DATA4380-project/rockpaperscissors/paper/VUx1G75w9CbeAJUx.png',\n",
              " 'drive/My Drive/DATA4380-project/rockpaperscissors/paper/V7gDBwuUctk8myTw.png',\n",
              " 'drive/My Drive/DATA4380-project/rockpaperscissors/paper/Uok6jb9ObZxSWCDu.png',\n",
              " 'drive/My Drive/DATA4380-project/rockpaperscissors/paper/VD4twqBeFDIHSovy.png',\n",
              " 'drive/My Drive/DATA4380-project/rockpaperscissors/paper/W4QtOYoG8ThbcmsY.png',\n",
              " 'drive/My Drive/DATA4380-project/rockpaperscissors/paper/UWq276y40jnVYaPC.png',\n",
              " 'drive/My Drive/DATA4380-project/rockpaperscissors/paper/URj0hmH1Y9lNObL9.png',\n",
              " 'drive/My Drive/DATA4380-project/rockpaperscissors/paper/VFOCgVBUlL5Gp4Hh.png',\n",
              " 'drive/My Drive/DATA4380-project/rockpaperscissors/paper/UJdZdj6nyFRHVFEg.png',\n",
              " 'drive/My Drive/DATA4380-project/rockpaperscissors/paper/UqMn3TJPZRf0px46.png',\n",
              " 'drive/My Drive/DATA4380-project/rockpaperscissors/paper/Vly5xEFupx36kCcd.png',\n",
              " 'drive/My Drive/DATA4380-project/rockpaperscissors/paper/V9v5VHsYgQOVnzo2.png',\n",
              " 'drive/My Drive/DATA4380-project/rockpaperscissors/paper/WUJ02oAbtzoPF4oo.png',\n",
              " 'drive/My Drive/DATA4380-project/rockpaperscissors/paper/UQIJiOYi6zCaIeue.png',\n",
              " 'drive/My Drive/DATA4380-project/rockpaperscissors/paper/UuF8mRQ3FDM6fOmp.png',\n",
              " 'drive/My Drive/DATA4380-project/rockpaperscissors/paper/UmipL2kv9TdDdryZ.png',\n",
              " 'drive/My Drive/DATA4380-project/rockpaperscissors/paper/VrhvQlf5Yz5mAt7Y.png',\n",
              " 'drive/My Drive/DATA4380-project/rockpaperscissors/paper/XJlnAmd0Rb4GNRxm.png',\n",
              " 'drive/My Drive/DATA4380-project/rockpaperscissors/paper/WVfwcOw6nXcg4xER.png',\n",
              " 'drive/My Drive/DATA4380-project/rockpaperscissors/paper/Wcg4nsnlWrhxgyJg.png',\n",
              " 'drive/My Drive/DATA4380-project/rockpaperscissors/paper/Xr1e0JehAkRxNzTj.png',\n",
              " 'drive/My Drive/DATA4380-project/rockpaperscissors/paper/XOWPFbuwpaJaEv9o.png',\n",
              " 'drive/My Drive/DATA4380-project/rockpaperscissors/paper/X3iDu3E3UCW1w1Cd.png',\n",
              " 'drive/My Drive/DATA4380-project/rockpaperscissors/paper/YEGCpdShhdOdneq4.png',\n",
              " 'drive/My Drive/DATA4380-project/rockpaperscissors/paper/XnvU9UjrhVwfnSgj.png',\n",
              " 'drive/My Drive/DATA4380-project/rockpaperscissors/paper/Y0XtXW0pn979O6KK.png',\n",
              " 'drive/My Drive/DATA4380-project/rockpaperscissors/paper/X5YjuJk3mrupKDrG.png',\n",
              " 'drive/My Drive/DATA4380-project/rockpaperscissors/paper/XQihGnpPBb3DucOm.png',\n",
              " 'drive/My Drive/DATA4380-project/rockpaperscissors/paper/XPvzu0bXUw8THjbU.png',\n",
              " 'drive/My Drive/DATA4380-project/rockpaperscissors/paper/XF9I4tnxCvI7XzIG.png',\n",
              " 'drive/My Drive/DATA4380-project/rockpaperscissors/paper/XNUalPNmCkHhYk1i.png',\n",
              " 'drive/My Drive/DATA4380-project/rockpaperscissors/paper/YaRk8v83K7BQmi5G.png',\n",
              " 'drive/My Drive/DATA4380-project/rockpaperscissors/paper/WejRez1oUWm5lhuw.png',\n",
              " 'drive/My Drive/DATA4380-project/rockpaperscissors/paper/XCoWpNiWscJm476F.png',\n",
              " 'drive/My Drive/DATA4380-project/rockpaperscissors/paper/Y7DDimLAYeU323au.png',\n",
              " 'drive/My Drive/DATA4380-project/rockpaperscissors/paper/YkZMyyS9fJdKmL3F.png',\n",
              " 'drive/My Drive/DATA4380-project/rockpaperscissors/paper/YTZfr87ETKYNkQRN.png',\n",
              " 'drive/My Drive/DATA4380-project/rockpaperscissors/paper/Y8kfG3f6KJa1YJPA.png',\n",
              " 'drive/My Drive/DATA4380-project/rockpaperscissors/paper/a45DJKHJdnCFhX5X.png',\n",
              " 'drive/My Drive/DATA4380-project/rockpaperscissors/paper/ZGQV7rFVePreAdOe.png',\n",
              " 'drive/My Drive/DATA4380-project/rockpaperscissors/paper/ZtLFRBgHAyauXYW6.png',\n",
              " 'drive/My Drive/DATA4380-project/rockpaperscissors/paper/ZFMh222FMJzr0yLD.png',\n",
              " 'drive/My Drive/DATA4380-project/rockpaperscissors/paper/aJeRqPY3UVBErDTY.png',\n",
              " 'drive/My Drive/DATA4380-project/rockpaperscissors/paper/Z4HE3jW7SMOonYFA.png',\n",
              " 'drive/My Drive/DATA4380-project/rockpaperscissors/paper/ZULuRlvYzTJM8jC3.png',\n",
              " 'drive/My Drive/DATA4380-project/rockpaperscissors/paper/ZGLUqWHjarBly23b.png',\n",
              " 'drive/My Drive/DATA4380-project/rockpaperscissors/paper/aKUFn8PEF7LP8BaX.png',\n",
              " 'drive/My Drive/DATA4380-project/rockpaperscissors/paper/a0CaFEDoDB7qeyhN.png',\n",
              " 'drive/My Drive/DATA4380-project/rockpaperscissors/paper/aOiWbMZF8BhxwLTs.png',\n",
              " 'drive/My Drive/DATA4380-project/rockpaperscissors/paper/ZBA0HPVlxkCdle5v.png',\n",
              " 'drive/My Drive/DATA4380-project/rockpaperscissors/paper/Ze6bn38U5XECyORF.png',\n",
              " 'drive/My Drive/DATA4380-project/rockpaperscissors/paper/a9SyLOjQZE4llCvX.png',\n",
              " 'drive/My Drive/DATA4380-project/rockpaperscissors/paper/Zo0eTAGaUb4ewSkf.png',\n",
              " 'drive/My Drive/DATA4380-project/rockpaperscissors/paper/ZnuLAMdyI9xJCcKE.png',\n",
              " 'drive/My Drive/DATA4380-project/rockpaperscissors/paper/aINwMVFw8UopgTOm.png',\n",
              " 'drive/My Drive/DATA4380-project/rockpaperscissors/paper/YrEfjld9tYk0b9m9.png',\n",
              " 'drive/My Drive/DATA4380-project/rockpaperscissors/paper/a21pgCIQ9pl0Guv5.png',\n",
              " 'drive/My Drive/DATA4380-project/rockpaperscissors/paper/ZveWRNmdKejc1c4w.png',\n",
              " 'drive/My Drive/DATA4380-project/rockpaperscissors/paper/Zx5NMbS4YBf29guF.png',\n",
              " 'drive/My Drive/DATA4380-project/rockpaperscissors/paper/YnANqAVHDOylhBls.png',\n",
              " 'drive/My Drive/DATA4380-project/rockpaperscissors/paper/aICabYNb79bdS6Mu.png',\n",
              " 'drive/My Drive/DATA4380-project/rockpaperscissors/paper/Z9vSGzBQ8YLOXQIX.png',\n",
              " 'drive/My Drive/DATA4380-project/rockpaperscissors/paper/Z5ioSnqxnoCUixRW.png',\n",
              " 'drive/My Drive/DATA4380-project/rockpaperscissors/paper/ZjHU1M9wOwgrm7SX.png',\n",
              " 'drive/My Drive/DATA4380-project/rockpaperscissors/paper/av2NxK494nd72Q13.png',\n",
              " 'drive/My Drive/DATA4380-project/rockpaperscissors/paper/bTurr7qf07hoPQu1.png',\n",
              " 'drive/My Drive/DATA4380-project/rockpaperscissors/paper/ac0j8jCfz8hwpY0o.png',\n",
              " 'drive/My Drive/DATA4380-project/rockpaperscissors/paper/cXZYoC2Bu8SeHasE.png',\n",
              " 'drive/My Drive/DATA4380-project/rockpaperscissors/paper/bWjObTeNghy8Z1zE.png',\n",
              " 'drive/My Drive/DATA4380-project/rockpaperscissors/paper/byBLmTC0iWfnT7wo.png',\n",
              " 'drive/My Drive/DATA4380-project/rockpaperscissors/paper/af6U4DsLPicCZcED.png',\n",
              " 'drive/My Drive/DATA4380-project/rockpaperscissors/paper/axwcCc4rC8ySUtML.png',\n",
              " 'drive/My Drive/DATA4380-project/rockpaperscissors/paper/bQO2dBIReHsgMCBi.png',\n",
              " 'drive/My Drive/DATA4380-project/rockpaperscissors/paper/bPTh8OjfiaJfzdcw.png',\n",
              " 'drive/My Drive/DATA4380-project/rockpaperscissors/paper/b15QGB4XPECDemV5.png',\n",
              " 'drive/My Drive/DATA4380-project/rockpaperscissors/paper/cf9L4KKsfsFpRrYA.png',\n",
              " 'drive/My Drive/DATA4380-project/rockpaperscissors/paper/cI2tl5vM2koXZPfG.png',\n",
              " 'drive/My Drive/DATA4380-project/rockpaperscissors/paper/cOHWfHkyo8sqWnpW.png',\n",
              " 'drive/My Drive/DATA4380-project/rockpaperscissors/paper/cQ0dBO3yHPohZ9U9.png',\n",
              " 'drive/My Drive/DATA4380-project/rockpaperscissors/paper/cfCjmEcXysh0H52D.png',\n",
              " 'drive/My Drive/DATA4380-project/rockpaperscissors/paper/bddldJIGmQP5CSLD.png',\n",
              " 'drive/My Drive/DATA4380-project/rockpaperscissors/paper/cUFSYeNYdnhRB6MD.png',\n",
              " 'drive/My Drive/DATA4380-project/rockpaperscissors/paper/c4FpTJmUl8wtm4n3.png',\n",
              " 'drive/My Drive/DATA4380-project/rockpaperscissors/paper/bxn0wMR4QebqVl62.png',\n",
              " 'drive/My Drive/DATA4380-project/rockpaperscissors/paper/atICt4otp6p6h31G.png',\n",
              " 'drive/My Drive/DATA4380-project/rockpaperscissors/paper/cMbbpVIgFU95R4tO.png',\n",
              " 'drive/My Drive/DATA4380-project/rockpaperscissors/paper/aw7H9dMuThRnO74k.png',\n",
              " 'drive/My Drive/DATA4380-project/rockpaperscissors/paper/aac4C8FFlVQw6aGM.png',\n",
              " 'drive/My Drive/DATA4380-project/rockpaperscissors/paper/aeVtGl2LQBr831P5.png',\n",
              " 'drive/My Drive/DATA4380-project/rockpaperscissors/paper/b8dw4ZOgMTx2h1xI.png',\n",
              " 'drive/My Drive/DATA4380-project/rockpaperscissors/paper/dUDR2ViadkqS6EHf.png',\n",
              " 'drive/My Drive/DATA4380-project/rockpaperscissors/paper/dF7Gvm0vgCJZofAW.png',\n",
              " 'drive/My Drive/DATA4380-project/rockpaperscissors/paper/dZxpgHYRuQNv7T7A.png',\n",
              " 'drive/My Drive/DATA4380-project/rockpaperscissors/paper/dyHfn1GBYIj195b5.png',\n",
              " 'drive/My Drive/DATA4380-project/rockpaperscissors/paper/crYtjQcVKQjCAWYq.png',\n",
              " 'drive/My Drive/DATA4380-project/rockpaperscissors/paper/e6blzPfvGcrcHaKl.png',\n",
              " 'drive/My Drive/DATA4380-project/rockpaperscissors/paper/djVVgBL6PqTdtr6l.png',\n",
              " 'drive/My Drive/DATA4380-project/rockpaperscissors/paper/eCpHvcUt4r7A9xJE.png',\n",
              " 'drive/My Drive/DATA4380-project/rockpaperscissors/paper/cw7oAjQLSjDYZPXH.png',\n",
              " 'drive/My Drive/DATA4380-project/rockpaperscissors/paper/e50cckZL8BKmqzjd.png',\n",
              " 'drive/My Drive/DATA4380-project/rockpaperscissors/paper/e96cq72UJTICTkE0.png',\n",
              " 'drive/My Drive/DATA4380-project/rockpaperscissors/paper/dDtRH0QF7IPSsasH.png',\n",
              " 'drive/My Drive/DATA4380-project/rockpaperscissors/paper/dIg7Ds4xEzk0pyWZ.png',\n",
              " 'drive/My Drive/DATA4380-project/rockpaperscissors/paper/d5FmD95HmhodiITj.png',\n",
              " 'drive/My Drive/DATA4380-project/rockpaperscissors/paper/dmT5g2m3meABNfCJ.png',\n",
              " 'drive/My Drive/DATA4380-project/rockpaperscissors/paper/eBU0DmyWZu3WLjSO.png',\n",
              " 'drive/My Drive/DATA4380-project/rockpaperscissors/paper/coKLsdqkvkYUv247.png',\n",
              " 'drive/My Drive/DATA4380-project/rockpaperscissors/paper/dftjUImANb0Q9pMA.png',\n",
              " 'drive/My Drive/DATA4380-project/rockpaperscissors/paper/cuDzhxpWujBPgJmX.png',\n",
              " 'drive/My Drive/DATA4380-project/rockpaperscissors/paper/dZh2VMRu9nRGHhYL.png',\n",
              " 'drive/My Drive/DATA4380-project/rockpaperscissors/paper/eCZWzeGkpX6rdizo.png',\n",
              " 'drive/My Drive/DATA4380-project/rockpaperscissors/paper/eBjRjXUIy7fpUaRy.png',\n",
              " 'drive/My Drive/DATA4380-project/rockpaperscissors/paper/eASnEW16rlMUPMf3.png',\n",
              " 'drive/My Drive/DATA4380-project/rockpaperscissors/paper/dPSQ4TKPBJyjv6cH.png',\n",
              " 'drive/My Drive/DATA4380-project/rockpaperscissors/paper/fSWSXO9fumLluiAF.png',\n",
              " 'drive/My Drive/DATA4380-project/rockpaperscissors/paper/eaOtD5yLQHTuFTz3.png',\n",
              " 'drive/My Drive/DATA4380-project/rockpaperscissors/paper/fMkDqtJgZAKa7dl5.png',\n",
              " 'drive/My Drive/DATA4380-project/rockpaperscissors/paper/eiiwN1DsKoIheMgz.png',\n",
              " 'drive/My Drive/DATA4380-project/rockpaperscissors/paper/gR2aEiEX8CzCtyBN.png',\n",
              " 'drive/My Drive/DATA4380-project/rockpaperscissors/paper/fiX6rjBt5qHGMsjc.png',\n",
              " 'drive/My Drive/DATA4380-project/rockpaperscissors/paper/g028Qv0lVlEbKi1q.png',\n",
              " 'drive/My Drive/DATA4380-project/rockpaperscissors/paper/fPwDPzGZ5JeY0rb9.png',\n",
              " 'drive/My Drive/DATA4380-project/rockpaperscissors/paper/eQaNnPaHwKsOJaYq.png',\n",
              " 'drive/My Drive/DATA4380-project/rockpaperscissors/paper/gFqfkMtX39sTkrSB.png',\n",
              " 'drive/My Drive/DATA4380-project/rockpaperscissors/paper/eLBTZkvB4E951ml0.png',\n",
              " 'drive/My Drive/DATA4380-project/rockpaperscissors/paper/fCX7MPg0xO4QP2Mk.png',\n",
              " 'drive/My Drive/DATA4380-project/rockpaperscissors/paper/fjITlTb11LELvo3e.png',\n",
              " 'drive/My Drive/DATA4380-project/rockpaperscissors/paper/eLNpUj2AZ1h4Mrxu.png',\n",
              " 'drive/My Drive/DATA4380-project/rockpaperscissors/paper/ehzdlf5B1HtVgpRs.png',\n",
              " 'drive/My Drive/DATA4380-project/rockpaperscissors/paper/f423uSEl5slK7nbj.png',\n",
              " 'drive/My Drive/DATA4380-project/rockpaperscissors/paper/em91htnBohvtnG2e.png',\n",
              " 'drive/My Drive/DATA4380-project/rockpaperscissors/paper/ePEd8TOzTgrGz5M2.png',\n",
              " 'drive/My Drive/DATA4380-project/rockpaperscissors/paper/gO7yxcP6H1vZ7lOe.png',\n",
              " 'drive/My Drive/DATA4380-project/rockpaperscissors/paper/et9oIiGQmAgwy7GK.png',\n",
              " 'drive/My Drive/DATA4380-project/rockpaperscissors/paper/fnbn7osMCGWmqHKZ.png',\n",
              " 'drive/My Drive/DATA4380-project/rockpaperscissors/paper/fYuJzeeHPzGwlGh0.png',\n",
              " 'drive/My Drive/DATA4380-project/rockpaperscissors/paper/eW9ezZkV7Jxu1BEk.png',\n",
              " 'drive/My Drive/DATA4380-project/rockpaperscissors/paper/f1aYiLdB5VC3L8Kk.png',\n",
              " 'drive/My Drive/DATA4380-project/rockpaperscissors/paper/ejC8QIku5jrtci48.png',\n",
              " 'drive/My Drive/DATA4380-project/rockpaperscissors/paper/fwnVVskCSNkB9LUL.png',\n",
              " 'drive/My Drive/DATA4380-project/rockpaperscissors/paper/hUDN2qXDxjoGBWqu.png',\n",
              " 'drive/My Drive/DATA4380-project/rockpaperscissors/paper/h4yYJuwG5dUXEY1B.png',\n",
              " 'drive/My Drive/DATA4380-project/rockpaperscissors/paper/hHY3BbYoVFjLEsbd.png',\n",
              " 'drive/My Drive/DATA4380-project/rockpaperscissors/paper/gpipGA62xfMjfr8O.png',\n",
              " 'drive/My Drive/DATA4380-project/rockpaperscissors/paper/hH7jcOkAiHqNDWcy.png',\n",
              " 'drive/My Drive/DATA4380-project/rockpaperscissors/paper/k9d5xaurp8JC9DXp.png',\n",
              " 'drive/My Drive/DATA4380-project/rockpaperscissors/paper/hxUxn67g42jOHGHi.png',\n",
              " 'drive/My Drive/DATA4380-project/rockpaperscissors/paper/jl6AlteXSalbS3rG.png',\n",
              " 'drive/My Drive/DATA4380-project/rockpaperscissors/paper/jYSFgcG68qqavVn6.png',\n",
              " 'drive/My Drive/DATA4380-project/rockpaperscissors/paper/hWVwQVI74lc5zgyK.png',\n",
              " 'drive/My Drive/DATA4380-project/rockpaperscissors/paper/jqQlxUsZOssnmdWL.png',\n",
              " 'drive/My Drive/DATA4380-project/rockpaperscissors/paper/gVd3f9CZNll3QS8l.png',\n",
              " 'drive/My Drive/DATA4380-project/rockpaperscissors/paper/hCPYo6pBGExadl5o.png',\n",
              " 'drive/My Drive/DATA4380-project/rockpaperscissors/paper/ib30bLCbBl0mKWko.png',\n",
              " 'drive/My Drive/DATA4380-project/rockpaperscissors/paper/k5n1w4gdm1G27rDk.png',\n",
              " 'drive/My Drive/DATA4380-project/rockpaperscissors/paper/kVKp9kJji4urjoMs.png',\n",
              " 'drive/My Drive/DATA4380-project/rockpaperscissors/paper/jZe5ePOjxcQEJitP.png',\n",
              " 'drive/My Drive/DATA4380-project/rockpaperscissors/paper/jAh36hlZLpECSBHp.png',\n",
              " 'drive/My Drive/DATA4380-project/rockpaperscissors/paper/kdPdOkLZZW1UnOPw.png',\n",
              " 'drive/My Drive/DATA4380-project/rockpaperscissors/paper/jCTsslbOLn04znvK.png',\n",
              " 'drive/My Drive/DATA4380-project/rockpaperscissors/paper/hu3OxByp0O4KCJft.png',\n",
              " 'drive/My Drive/DATA4380-project/rockpaperscissors/paper/iGiF1suI8wXP6A2r.png',\n",
              " 'drive/My Drive/DATA4380-project/rockpaperscissors/paper/jXhwHToky4rsswCO.png',\n",
              " 'drive/My Drive/DATA4380-project/rockpaperscissors/paper/jaxChUvakWAN9eTs.png',\n",
              " 'drive/My Drive/DATA4380-project/rockpaperscissors/paper/hfYfNNtqkFzF9BE4.png',\n",
              " 'drive/My Drive/DATA4380-project/rockpaperscissors/paper/j8dvLhkeL92SpOGj.png',\n",
              " 'drive/My Drive/DATA4380-project/rockpaperscissors/paper/i47BmmqwUa4y0jIP.png',\n",
              " 'drive/My Drive/DATA4380-project/rockpaperscissors/paper/lxWEYgTaWJSoYSiD.png',\n",
              " 'drive/My Drive/DATA4380-project/rockpaperscissors/paper/mV9vc1ITH1PrrbF8.png',\n",
              " 'drive/My Drive/DATA4380-project/rockpaperscissors/paper/mWtDBJ2pprz96x22.png',\n",
              " 'drive/My Drive/DATA4380-project/rockpaperscissors/paper/lj8o8xy1TAOMQDaH.png',\n",
              " 'drive/My Drive/DATA4380-project/rockpaperscissors/paper/kz9TBAHLFXGnHCiF.png',\n",
              " 'drive/My Drive/DATA4380-project/rockpaperscissors/paper/l7pEq6tQKyUNL3GN.png',\n",
              " 'drive/My Drive/DATA4380-project/rockpaperscissors/paper/n10pI9JDPyeM0P73.png',\n",
              " 'drive/My Drive/DATA4380-project/rockpaperscissors/paper/lZkRVz5sifz7CD66.png',\n",
              " 'drive/My Drive/DATA4380-project/rockpaperscissors/paper/m4BUXxtLrhnsSUJ2.png',\n",
              " 'drive/My Drive/DATA4380-project/rockpaperscissors/paper/khFWD3MPEKPitVyA.png',\n",
              " 'drive/My Drive/DATA4380-project/rockpaperscissors/paper/lb8kepfzcnutbQI1.png',\n",
              " 'drive/My Drive/DATA4380-project/rockpaperscissors/paper/ldGrLw1rlUq1nHuw.png',\n",
              " 'drive/My Drive/DATA4380-project/rockpaperscissors/paper/ldG6HLXeY0KilKyr.png',\n",
              " 'drive/My Drive/DATA4380-project/rockpaperscissors/paper/lqo55attrFxuKqlu.png',\n",
              " 'drive/My Drive/DATA4380-project/rockpaperscissors/paper/mK7Kqflg12vHFBEK.png',\n",
              " 'drive/My Drive/DATA4380-project/rockpaperscissors/paper/n1H2YStjFsCwmlYz.png',\n",
              " 'drive/My Drive/DATA4380-project/rockpaperscissors/paper/mkUctpckc3vjOwKa.png',\n",
              " 'drive/My Drive/DATA4380-project/rockpaperscissors/paper/lhr6oNI2jMsi0Z6A.png',\n",
              " 'drive/My Drive/DATA4380-project/rockpaperscissors/paper/mZW0RUegJl9SM8ck.png',\n",
              " 'drive/My Drive/DATA4380-project/rockpaperscissors/paper/keyl4nDZLxLORnr3.png',\n",
              " 'drive/My Drive/DATA4380-project/rockpaperscissors/paper/mugG8B1m5Ra2aRgZ.png',\n",
              " 'drive/My Drive/DATA4380-project/rockpaperscissors/paper/lGIPlKIVgwrDC17U.png',\n",
              " 'drive/My Drive/DATA4380-project/rockpaperscissors/paper/knWd03lNhoAUPdKX.png',\n",
              " 'drive/My Drive/DATA4380-project/rockpaperscissors/paper/mUqkjFi6NBsHR7tf.png',\n",
              " 'drive/My Drive/DATA4380-project/rockpaperscissors/paper/kmBByXdkwf5Vro8P.png',\n",
              " 'drive/My Drive/DATA4380-project/rockpaperscissors/paper/nOTm1e00MAJxvpwp.png',\n",
              " 'drive/My Drive/DATA4380-project/rockpaperscissors/paper/neo7ALjpzKdzVCj1.png',\n",
              " 'drive/My Drive/DATA4380-project/rockpaperscissors/paper/oJi50DvlvFg4wTio.png',\n",
              " 'drive/My Drive/DATA4380-project/rockpaperscissors/paper/ocaU2HmemX7rmjm0.png',\n",
              " 'drive/My Drive/DATA4380-project/rockpaperscissors/paper/oAvUHooYsSpFid0p.png',\n",
              " 'drive/My Drive/DATA4380-project/rockpaperscissors/paper/nXOxF15xZFtfflkL.png',\n",
              " 'drive/My Drive/DATA4380-project/rockpaperscissors/paper/oWI7JL85eXDhRFcV.png',\n",
              " 'drive/My Drive/DATA4380-project/rockpaperscissors/paper/nb6CUTNhXBAmjFp9.png',\n",
              " 'drive/My Drive/DATA4380-project/rockpaperscissors/paper/nmkNauqVsM2JUvok.png',\n",
              " 'drive/My Drive/DATA4380-project/rockpaperscissors/paper/n8IzyztMwnfa5rjf.png',\n",
              " 'drive/My Drive/DATA4380-project/rockpaperscissors/paper/nsbCG572TtIVkjKn.png',\n",
              " 'drive/My Drive/DATA4380-project/rockpaperscissors/paper/oKx22gb6XjI0aXHR.png',\n",
              " 'drive/My Drive/DATA4380-project/rockpaperscissors/paper/oi2e7ny5y00NBLOx.png',\n",
              " 'drive/My Drive/DATA4380-project/rockpaperscissors/paper/nPEUpKKphLYH3Bjy.png',\n",
              " 'drive/My Drive/DATA4380-project/rockpaperscissors/paper/oBKuveyTYAhqtKSw.png',\n",
              " 'drive/My Drive/DATA4380-project/rockpaperscissors/paper/oLcpS2BYyqZLBj9P.png',\n",
              " 'drive/My Drive/DATA4380-project/rockpaperscissors/paper/nSfRj8Sp6S0GsMVm.png',\n",
              " 'drive/My Drive/DATA4380-project/rockpaperscissors/paper/nGxiCAryWhadfu7W.png',\n",
              " 'drive/My Drive/DATA4380-project/rockpaperscissors/paper/nnf5jELXQuneoejn.png',\n",
              " 'drive/My Drive/DATA4380-project/rockpaperscissors/paper/n5NXfZTRonR4iOr0.png',\n",
              " 'drive/My Drive/DATA4380-project/rockpaperscissors/paper/ngFDxBhhLQzs7JAH.png',\n",
              " 'drive/My Drive/DATA4380-project/rockpaperscissors/paper/nvCwoV9k3ym5N0JA.png',\n",
              " 'drive/My Drive/DATA4380-project/rockpaperscissors/paper/oTQjuZyEM7y9MlNJ.png',\n",
              " 'drive/My Drive/DATA4380-project/rockpaperscissors/paper/ntumvg6vWpT6qIal.png',\n",
              " 'drive/My Drive/DATA4380-project/rockpaperscissors/paper/n9SDT7R9BSLRNCe1.png',\n",
              " 'drive/My Drive/DATA4380-project/rockpaperscissors/paper/o0CfvFooVIcHCGzO.png',\n",
              " 'drive/My Drive/DATA4380-project/rockpaperscissors/paper/p81Lb4bD6fEvkSQ0.png',\n",
              " 'drive/My Drive/DATA4380-project/rockpaperscissors/paper/ojF0xyUvkvV3iujz.png',\n",
              " 'drive/My Drive/DATA4380-project/rockpaperscissors/paper/p2Y8kJZKuaHvM4dk.png',\n",
              " 'drive/My Drive/DATA4380-project/rockpaperscissors/paper/q35FqG8h9VCDbQ1J.png',\n",
              " 'drive/My Drive/DATA4380-project/rockpaperscissors/paper/oiJhtTsTDkiAcHeR.png',\n",
              " 'drive/My Drive/DATA4380-project/rockpaperscissors/paper/owYHB2dx7ExdKxsR.png',\n",
              " 'drive/My Drive/DATA4380-project/rockpaperscissors/paper/pwM1GeKjG7KE4i75.png',\n",
              " 'drive/My Drive/DATA4380-project/rockpaperscissors/paper/pUCjvjdpH5HSaWxl.png',\n",
              " 'drive/My Drive/DATA4380-project/rockpaperscissors/paper/pPId4ocKjlcEVsXt.png',\n",
              " 'drive/My Drive/DATA4380-project/rockpaperscissors/paper/pfyaiU10n2EvAwgw.png',\n",
              " 'drive/My Drive/DATA4380-project/rockpaperscissors/paper/pW8TQWh9SoWh0HLE.png',\n",
              " 'drive/My Drive/DATA4380-project/rockpaperscissors/paper/orYuZ7NeWdENNt7D.png',\n",
              " 'drive/My Drive/DATA4380-project/rockpaperscissors/paper/qM0f6IJPDfLRpo1d.png',\n",
              " 'drive/My Drive/DATA4380-project/rockpaperscissors/paper/pHx4pvFv4zXPDI1w.png',\n",
              " 'drive/My Drive/DATA4380-project/rockpaperscissors/paper/oqJ2wJHOLMGGxdjF.png',\n",
              " 'drive/My Drive/DATA4380-project/rockpaperscissors/paper/prCirglnpqZ4KRmM.png',\n",
              " 'drive/My Drive/DATA4380-project/rockpaperscissors/paper/pt2EHjG6vxV6Hjmf.png',\n",
              " 'drive/My Drive/DATA4380-project/rockpaperscissors/paper/qGf97ZWPmGYzlTpo.png',\n",
              " 'drive/My Drive/DATA4380-project/rockpaperscissors/paper/pMQfFsmXAu2xZuUv.png',\n",
              " 'drive/My Drive/DATA4380-project/rockpaperscissors/paper/pRZml1c5DSIzYVxA.png',\n",
              " 'drive/My Drive/DATA4380-project/rockpaperscissors/paper/p2UN3r1vWk57uVqX.png',\n",
              " 'drive/My Drive/DATA4380-project/rockpaperscissors/paper/pVCqrp8S6Ze3DAI8.png',\n",
              " 'drive/My Drive/DATA4380-project/rockpaperscissors/paper/qC5sV6TzOBzyzW0p.png',\n",
              " 'drive/My Drive/DATA4380-project/rockpaperscissors/paper/pYvpGm431tLNheln.png',\n",
              " 'drive/My Drive/DATA4380-project/rockpaperscissors/paper/sAEYBhcNfJgAZTD6.png',\n",
              " 'drive/My Drive/DATA4380-project/rockpaperscissors/paper/rSRKkten7Ffx6bEj.png',\n",
              " 'drive/My Drive/DATA4380-project/rockpaperscissors/paper/qWHWCHG7exZiCfdq.png',\n",
              " 'drive/My Drive/DATA4380-project/rockpaperscissors/paper/r9sXHEyVJVCtshSA.png',\n",
              " 'drive/My Drive/DATA4380-project/rockpaperscissors/paper/qtYZl1WPMxaH5KQV.png',\n",
              " 'drive/My Drive/DATA4380-project/rockpaperscissors/paper/r98ovEGxFpCnVnyy.png',\n",
              " 'drive/My Drive/DATA4380-project/rockpaperscissors/paper/qhhaVBNDIWDdNR2Y.png',\n",
              " 'drive/My Drive/DATA4380-project/rockpaperscissors/paper/qZX4Zcms0Ffpe8v7.png',\n",
              " 'drive/My Drive/DATA4380-project/rockpaperscissors/paper/s73bLQf6K0lw4RDJ.png',\n",
              " 'drive/My Drive/DATA4380-project/rockpaperscissors/paper/qRNjm8INtwezm9Yd.png',\n",
              " 'drive/My Drive/DATA4380-project/rockpaperscissors/paper/qVqPFRhMJXPFh8Yb.png',\n",
              " 'drive/My Drive/DATA4380-project/rockpaperscissors/paper/qs7Zi0icFErU0fsZ.png',\n",
              " 'drive/My Drive/DATA4380-project/rockpaperscissors/paper/qsRQNgddFhV2Mlnn.png',\n",
              " 'drive/My Drive/DATA4380-project/rockpaperscissors/paper/qjNwQMtSzoZKXOGe.png',\n",
              " 'drive/My Drive/DATA4380-project/rockpaperscissors/paper/raSxG3GjqMrYHvgW.png',\n",
              " 'drive/My Drive/DATA4380-project/rockpaperscissors/paper/qbWKhamyFLSmXCgZ.png',\n",
              " 'drive/My Drive/DATA4380-project/rockpaperscissors/paper/rDfjA9TE0tYqzT21.png',\n",
              " 'drive/My Drive/DATA4380-project/rockpaperscissors/paper/qtfGt3JjA0Orrg9v.png',\n",
              " 'drive/My Drive/DATA4380-project/rockpaperscissors/paper/rffdDFsMVDDkn32c.png',\n",
              " 'drive/My Drive/DATA4380-project/rockpaperscissors/paper/rX4dcSySbz56p4dk.png',\n",
              " 'drive/My Drive/DATA4380-project/rockpaperscissors/paper/rrSpAVrlixKrTC1T.png',\n",
              " 'drive/My Drive/DATA4380-project/rockpaperscissors/paper/s4dtRIGK3emNyjrO.png',\n",
              " 'drive/My Drive/DATA4380-project/rockpaperscissors/paper/qQim08vMQ6OUCtbR.png',\n",
              " 'drive/My Drive/DATA4380-project/rockpaperscissors/paper/u5672IrPHHkppdEK.png',\n",
              " 'drive/My Drive/DATA4380-project/rockpaperscissors/paper/ubb6xwgONJP3xBbv.png',\n",
              " 'drive/My Drive/DATA4380-project/rockpaperscissors/paper/tFuz8mF78pYT6hKS.png',\n",
              " 'drive/My Drive/DATA4380-project/rockpaperscissors/paper/tlZ31lJJt1OhSr0a.png',\n",
              " 'drive/My Drive/DATA4380-project/rockpaperscissors/paper/tHitLUmmXOyChXOH.png',\n",
              " 'drive/My Drive/DATA4380-project/rockpaperscissors/paper/ukOGooYiFOfJHNrx.png',\n",
              " 'drive/My Drive/DATA4380-project/rockpaperscissors/paper/tsfjaR5pzLN4vfRW.png',\n",
              " 'drive/My Drive/DATA4380-project/rockpaperscissors/paper/v4pz2TAsHhtNtTAH.png',\n",
              " 'drive/My Drive/DATA4380-project/rockpaperscissors/paper/uoYuyEHvVLrOOmqW.png',\n",
              " 'drive/My Drive/DATA4380-project/rockpaperscissors/paper/tiS1ECooPwR5IvFK.png',\n",
              " 'drive/My Drive/DATA4380-project/rockpaperscissors/paper/sak9CBkECbg1PSLz.png',\n",
              " 'drive/My Drive/DATA4380-project/rockpaperscissors/paper/tV2VtZHsIL8Gj4TC.png',\n",
              " 'drive/My Drive/DATA4380-project/rockpaperscissors/paper/v1b7FBFD4ZbLJnhB.png',\n",
              " 'drive/My Drive/DATA4380-project/rockpaperscissors/paper/ueuECCtQxOjHF1ij.png',\n",
              " 'drive/My Drive/DATA4380-project/rockpaperscissors/paper/sDAWCwVlT2NFpEAf.png',\n",
              " 'drive/My Drive/DATA4380-project/rockpaperscissors/paper/sZyZICXHv0ArIZFw.png',\n",
              " 'drive/My Drive/DATA4380-project/rockpaperscissors/paper/svY0FVnjij1nSJDK.png',\n",
              " 'drive/My Drive/DATA4380-project/rockpaperscissors/paper/t3gTGwl94iLuZL1k.png',\n",
              " 'drive/My Drive/DATA4380-project/rockpaperscissors/paper/to1CYeerlgzyJIeO.png',\n",
              " 'drive/My Drive/DATA4380-project/rockpaperscissors/paper/sisDkUJdIN7AkgTV.png',\n",
              " 'drive/My Drive/DATA4380-project/rockpaperscissors/paper/ul2wGK0NgJXs8mHv.png',\n",
              " 'drive/My Drive/DATA4380-project/rockpaperscissors/paper/t2SdNfWDiXGLJPBA.png',\n",
              " 'drive/My Drive/DATA4380-project/rockpaperscissors/paper/tW1oIjn0hlGLToAY.png',\n",
              " 'drive/My Drive/DATA4380-project/rockpaperscissors/paper/uHBQbKd9VTYWdctJ.png',\n",
              " 'drive/My Drive/DATA4380-project/rockpaperscissors/paper/tfMCcOsRUhEJZF6I.png',\n",
              " 'drive/My Drive/DATA4380-project/rockpaperscissors/paper/tUAXecVWvaYBm4s4.png',\n",
              " 'drive/My Drive/DATA4380-project/rockpaperscissors/paper/wytuIz48uLeDoGqz.png',\n",
              " 'drive/My Drive/DATA4380-project/rockpaperscissors/paper/vUtM1pR6f5ZdEn5a.png',\n",
              " 'drive/My Drive/DATA4380-project/rockpaperscissors/paper/wKiW95hiPu8zQhwV.png',\n",
              " 'drive/My Drive/DATA4380-project/rockpaperscissors/paper/vPvoQzBR7Paf5Jml.png',\n",
              " 'drive/My Drive/DATA4380-project/rockpaperscissors/paper/vFCd43peE8nozYko.png',\n",
              " 'drive/My Drive/DATA4380-project/rockpaperscissors/paper/wBuXrsjeqMn4ZXdn.png',\n",
              " 'drive/My Drive/DATA4380-project/rockpaperscissors/paper/x8fNY0V8O2CJ9vaY.png',\n",
              " 'drive/My Drive/DATA4380-project/rockpaperscissors/paper/wBUGgxpeb0gggcTx.png',\n",
              " 'drive/My Drive/DATA4380-project/rockpaperscissors/paper/wQQCLOgW5qXxkwli.png',\n",
              " 'drive/My Drive/DATA4380-project/rockpaperscissors/paper/xR8mRBEdYAbokAEk.png',\n",
              " 'drive/My Drive/DATA4380-project/rockpaperscissors/paper/xJNBzdx479xjphEV.png',\n",
              " 'drive/My Drive/DATA4380-project/rockpaperscissors/paper/xioDLxSWnSZ5sDbQ.png',\n",
              " 'drive/My Drive/DATA4380-project/rockpaperscissors/paper/v6wOWeRyh3Sv5BXo.png',\n",
              " 'drive/My Drive/DATA4380-project/rockpaperscissors/paper/vfKiFjWIK9JKHxLn.png',\n",
              " 'drive/My Drive/DATA4380-project/rockpaperscissors/paper/xJAZ3PewpLYs4ogR.png',\n",
              " 'drive/My Drive/DATA4380-project/rockpaperscissors/paper/xha8stYdUnt02zKI.png',\n",
              " 'drive/My Drive/DATA4380-project/rockpaperscissors/paper/v6Ypsa9vPurMnl20.png',\n",
              " 'drive/My Drive/DATA4380-project/rockpaperscissors/paper/veIFAtZUg4WYjn3N.png',\n",
              " 'drive/My Drive/DATA4380-project/rockpaperscissors/paper/wYsHIJDvNLDvn4m7.png',\n",
              " 'drive/My Drive/DATA4380-project/rockpaperscissors/paper/wdUfwC8IoQbVtqzR.png',\n",
              " 'drive/My Drive/DATA4380-project/rockpaperscissors/paper/w3fJMYnDDxw5q00K.png',\n",
              " 'drive/My Drive/DATA4380-project/rockpaperscissors/paper/x3z3E6Z2qsmW8TaH.png',\n",
              " 'drive/My Drive/DATA4380-project/rockpaperscissors/paper/wfpI2zfWOeQbwd1f.png',\n",
              " 'drive/My Drive/DATA4380-project/rockpaperscissors/paper/vvM7nA8hZJD5b9CL.png',\n",
              " 'drive/My Drive/DATA4380-project/rockpaperscissors/paper/xhKyuxHPC3RnoLD0.png',\n",
              " 'drive/My Drive/DATA4380-project/rockpaperscissors/paper/vHbB53ZFtZoNcvAM.png',\n",
              " 'drive/My Drive/DATA4380-project/rockpaperscissors/paper/znZ3UHvUM8ySVpDR.png',\n",
              " 'drive/My Drive/DATA4380-project/rockpaperscissors/paper/yB4dN62hOf4QeWGy.png',\n",
              " 'drive/My Drive/DATA4380-project/rockpaperscissors/paper/zXY93m62vUNIH4a0.png',\n",
              " 'drive/My Drive/DATA4380-project/rockpaperscissors/paper/y2auZRkrUIi0wvd2.png',\n",
              " 'drive/My Drive/DATA4380-project/rockpaperscissors/paper/xsM5n0KOqwb5R58V.png',\n",
              " 'drive/My Drive/DATA4380-project/rockpaperscissors/paper/zBMp6VflTDyfCqa6.png',\n",
              " 'drive/My Drive/DATA4380-project/rockpaperscissors/paper/yB11HwUEuYHhVlKo.png',\n",
              " 'drive/My Drive/DATA4380-project/rockpaperscissors/paper/yM5JZ5J4uLeYIGOO.png',\n",
              " 'drive/My Drive/DATA4380-project/rockpaperscissors/paper/ySmdq2LJmCBQatvr.png',\n",
              " 'drive/My Drive/DATA4380-project/rockpaperscissors/paper/yaRRMcZS7JJ3xLK1.png',\n",
              " 'drive/My Drive/DATA4380-project/rockpaperscissors/paper/yUhvKMWrPQ9sJ78m.png',\n",
              " 'drive/My Drive/DATA4380-project/rockpaperscissors/paper/zrZmvRbPtB57a4Vr.png',\n",
              " 'drive/My Drive/DATA4380-project/rockpaperscissors/paper/yhXsHSeStA2dharc.png',\n",
              " 'drive/My Drive/DATA4380-project/rockpaperscissors/paper/yYiQN5jZvkGqr6C5.png',\n",
              " 'drive/My Drive/DATA4380-project/rockpaperscissors/paper/xnLyw2TBZF8e2vcr.png',\n",
              " 'drive/My Drive/DATA4380-project/rockpaperscissors/paper/ywXiLajxMzhy7BST.png',\n",
              " 'drive/My Drive/DATA4380-project/rockpaperscissors/paper/zb6wXq49QppiS9sf.png',\n",
              " 'drive/My Drive/DATA4380-project/rockpaperscissors/paper/zVMOQFwVINs3dj8o.png',\n",
              " 'drive/My Drive/DATA4380-project/rockpaperscissors/paper/y9DoLrI4Hlh2EUts.png',\n",
              " 'drive/My Drive/DATA4380-project/rockpaperscissors/paper/yYba9sH9TlYCAtoo.png',\n",
              " 'drive/My Drive/DATA4380-project/rockpaperscissors/paper/yfoLtt4c7Rzc5VOW.png',\n",
              " 'drive/My Drive/DATA4380-project/rockpaperscissors/paper/zQvuYPyUR7gXdqXE.png',\n",
              " 'drive/My Drive/DATA4380-project/rockpaperscissors/paper/xyFhBLzUNatOchjM.png',\n",
              " 'drive/My Drive/DATA4380-project/rockpaperscissors/paper/zGty6p4zGTzRip73.png',\n",
              " 'drive/My Drive/DATA4380-project/rockpaperscissors/paper/yWLbGUHRsGx5ocE9.png',\n",
              " 'drive/My Drive/DATA4380-project/rockpaperscissors/paper/yPnREvUeAGYRKi7V.png',\n",
              " 'drive/My Drive/DATA4380-project/rockpaperscissors/paper/zru6yFR3dqc3SymW.png',\n",
              " 'drive/My Drive/DATA4380-project/rockpaperscissors/paper/zz1yffW197uYO6DI.png']"
            ]
          },
          "metadata": {},
          "execution_count": 16
        }
      ]
    },
    {
      "cell_type": "code",
      "source": [
        "def form_array(arr):\n",
        "\n",
        "  a = []\n",
        "  arr = np.asarray(arr)\n",
        "\n",
        "  for i in arr:\n",
        "    zq = np.asarray(PIL.Image.open(i))\n",
        "    a.append(zq)\n",
        "\n",
        "  return np.array(a)/256\n",
        "\n",
        "## Turning each list into a 4D array (n, 200, 300, 3) \n",
        "## which contains the RGB images as arrays.\n",
        "## We can take each 3D array contained within the larger structure as an individual input.\n",
        "## Our targets will be categorical based on the list that it came out of.\n",
        "\n",
        "rock, paper, scissors = form_array(rocklst), form_array(paperlst), form_array(scissorslst)"
      ],
      "metadata": {
        "id": "_uNuBnFQJ0GS",
        "colab": {
          "base_uri": "https://localhost:8080/",
          "height": 345
        },
        "outputId": "e1eeb424-ce8e-41f9-df0c-d558e1b18084"
      },
      "execution_count": null,
      "outputs": [
        {
          "output_type": "error",
          "ename": "KeyboardInterrupt",
          "evalue": "ignored",
          "traceback": [
            "\u001b[0;31m---------------------------------------------------------------------------\u001b[0m",
            "\u001b[0;31mKeyboardInterrupt\u001b[0m                         Traceback (most recent call last)",
            "\u001b[0;32m<ipython-input-17-dcbf8318b5ae>\u001b[0m in \u001b[0;36m<cell line: 17>\u001b[0;34m()\u001b[0m\n\u001b[1;32m     15\u001b[0m \u001b[0;31m## Our targets will be categorical based on the list that it came out of.\u001b[0m\u001b[0;34m\u001b[0m\u001b[0;34m\u001b[0m\u001b[0m\n\u001b[1;32m     16\u001b[0m \u001b[0;34m\u001b[0m\u001b[0m\n\u001b[0;32m---> 17\u001b[0;31m \u001b[0mrock\u001b[0m\u001b[0;34m,\u001b[0m \u001b[0mpaper\u001b[0m\u001b[0;34m,\u001b[0m \u001b[0mscissors\u001b[0m \u001b[0;34m=\u001b[0m \u001b[0mform_array\u001b[0m\u001b[0;34m(\u001b[0m\u001b[0mrocklst\u001b[0m\u001b[0;34m)\u001b[0m\u001b[0;34m,\u001b[0m \u001b[0mform_array\u001b[0m\u001b[0;34m(\u001b[0m\u001b[0mpaperlst\u001b[0m\u001b[0;34m)\u001b[0m\u001b[0;34m,\u001b[0m \u001b[0mform_array\u001b[0m\u001b[0;34m(\u001b[0m\u001b[0mscissorslst\u001b[0m\u001b[0;34m)\u001b[0m\u001b[0;34m\u001b[0m\u001b[0;34m\u001b[0m\u001b[0m\n\u001b[0m",
            "\u001b[0;32m<ipython-input-17-dcbf8318b5ae>\u001b[0m in \u001b[0;36mform_array\u001b[0;34m(arr)\u001b[0m\n\u001b[1;32m      5\u001b[0m \u001b[0;34m\u001b[0m\u001b[0m\n\u001b[1;32m      6\u001b[0m   \u001b[0;32mfor\u001b[0m \u001b[0mi\u001b[0m \u001b[0;32min\u001b[0m \u001b[0marr\u001b[0m\u001b[0;34m:\u001b[0m\u001b[0;34m\u001b[0m\u001b[0;34m\u001b[0m\u001b[0m\n\u001b[0;32m----> 7\u001b[0;31m     \u001b[0mzq\u001b[0m \u001b[0;34m=\u001b[0m \u001b[0mnp\u001b[0m\u001b[0;34m.\u001b[0m\u001b[0masarray\u001b[0m\u001b[0;34m(\u001b[0m\u001b[0mPIL\u001b[0m\u001b[0;34m.\u001b[0m\u001b[0mImage\u001b[0m\u001b[0;34m.\u001b[0m\u001b[0mopen\u001b[0m\u001b[0;34m(\u001b[0m\u001b[0mi\u001b[0m\u001b[0;34m)\u001b[0m\u001b[0;34m)\u001b[0m\u001b[0;34m\u001b[0m\u001b[0;34m\u001b[0m\u001b[0m\n\u001b[0m\u001b[1;32m      8\u001b[0m     \u001b[0ma\u001b[0m\u001b[0;34m.\u001b[0m\u001b[0mappend\u001b[0m\u001b[0;34m(\u001b[0m\u001b[0mzq\u001b[0m\u001b[0;34m)\u001b[0m\u001b[0;34m\u001b[0m\u001b[0;34m\u001b[0m\u001b[0m\n\u001b[1;32m      9\u001b[0m \u001b[0;34m\u001b[0m\u001b[0m\n",
            "\u001b[0;32m/usr/local/lib/python3.9/dist-packages/PIL/Image.py\u001b[0m in \u001b[0;36mopen\u001b[0;34m(fp, mode, formats)\u001b[0m\n\u001b[1;32m   2982\u001b[0m         \u001b[0mexclusive_fp\u001b[0m \u001b[0;34m=\u001b[0m \u001b[0;32mTrue\u001b[0m\u001b[0;34m\u001b[0m\u001b[0;34m\u001b[0m\u001b[0m\n\u001b[1;32m   2983\u001b[0m \u001b[0;34m\u001b[0m\u001b[0m\n\u001b[0;32m-> 2984\u001b[0;31m     \u001b[0mprefix\u001b[0m \u001b[0;34m=\u001b[0m \u001b[0mfp\u001b[0m\u001b[0;34m.\u001b[0m\u001b[0mread\u001b[0m\u001b[0;34m(\u001b[0m\u001b[0;36m16\u001b[0m\u001b[0;34m)\u001b[0m\u001b[0;34m\u001b[0m\u001b[0;34m\u001b[0m\u001b[0m\n\u001b[0m\u001b[1;32m   2985\u001b[0m \u001b[0;34m\u001b[0m\u001b[0m\n\u001b[1;32m   2986\u001b[0m     \u001b[0mpreinit\u001b[0m\u001b[0;34m(\u001b[0m\u001b[0;34m)\u001b[0m\u001b[0;34m\u001b[0m\u001b[0;34m\u001b[0m\u001b[0m\n",
            "\u001b[0;31mKeyboardInterrupt\u001b[0m: "
          ]
        }
      ]
    },
    {
      "cell_type": "code",
      "source": [
        "paper[0]"
      ],
      "metadata": {
        "colab": {
          "base_uri": "https://localhost:8080/",
          "height": 165
        },
        "id": "XvTNlRj_aYUv",
        "outputId": "76e557f0-18f7-42cb-b4db-a3fff700e672"
      },
      "execution_count": null,
      "outputs": [
        {
          "output_type": "error",
          "ename": "IndexError",
          "evalue": "ignored",
          "traceback": [
            "\u001b[0;31m---------------------------------------------------------------------------\u001b[0m",
            "\u001b[0;31mIndexError\u001b[0m                                Traceback (most recent call last)",
            "\u001b[0;32m<ipython-input-13-3e09263d3a57>\u001b[0m in \u001b[0;36m<cell line: 1>\u001b[0;34m()\u001b[0m\n\u001b[0;32m----> 1\u001b[0;31m \u001b[0mpaper\u001b[0m\u001b[0;34m[\u001b[0m\u001b[0;36m0\u001b[0m\u001b[0;34m]\u001b[0m\u001b[0;34m\u001b[0m\u001b[0;34m\u001b[0m\u001b[0m\n\u001b[0m",
            "\u001b[0;31mIndexError\u001b[0m: index 0 is out of bounds for axis 0 with size 0"
          ]
        }
      ]
    },
    {
      "cell_type": "code",
      "source": [
        "labels = np.array([1]*len(rock) + [2]*len(paper) + [3]*len(scissors))\n",
        "images = np.concatenate((rock,paper,scissors), axis = 0)"
      ],
      "metadata": {
        "id": "hiizNVFmqOJK",
        "colab": {
          "base_uri": "https://localhost:8080/",
          "height": 235
        },
        "outputId": "2cef5c5f-c28b-462f-ba07-4d31e9b9f0fb"
      },
      "execution_count": null,
      "outputs": [
        {
          "output_type": "error",
          "ename": "ValueError",
          "evalue": "ignored",
          "traceback": [
            "\u001b[0;31m---------------------------------------------------------------------------\u001b[0m",
            "\u001b[0;31mValueError\u001b[0m                                Traceback (most recent call last)",
            "\u001b[0;32m<ipython-input-8-617cd4e9b4c3>\u001b[0m in \u001b[0;36m<cell line: 2>\u001b[0;34m()\u001b[0m\n\u001b[1;32m      1\u001b[0m \u001b[0mlabels\u001b[0m \u001b[0;34m=\u001b[0m \u001b[0mnp\u001b[0m\u001b[0;34m.\u001b[0m\u001b[0marray\u001b[0m\u001b[0;34m(\u001b[0m\u001b[0;34m[\u001b[0m\u001b[0;36m1\u001b[0m\u001b[0;34m]\u001b[0m\u001b[0;34m*\u001b[0m\u001b[0mlen\u001b[0m\u001b[0;34m(\u001b[0m\u001b[0mrock\u001b[0m\u001b[0;34m)\u001b[0m \u001b[0;34m+\u001b[0m \u001b[0;34m[\u001b[0m\u001b[0;36m2\u001b[0m\u001b[0;34m]\u001b[0m\u001b[0;34m*\u001b[0m\u001b[0mlen\u001b[0m\u001b[0;34m(\u001b[0m\u001b[0mpaper\u001b[0m\u001b[0;34m)\u001b[0m \u001b[0;34m+\u001b[0m \u001b[0;34m[\u001b[0m\u001b[0;36m3\u001b[0m\u001b[0;34m]\u001b[0m\u001b[0;34m*\u001b[0m\u001b[0mlen\u001b[0m\u001b[0;34m(\u001b[0m\u001b[0mscissors\u001b[0m\u001b[0;34m)\u001b[0m\u001b[0;34m)\u001b[0m\u001b[0;34m\u001b[0m\u001b[0;34m\u001b[0m\u001b[0m\n\u001b[0;32m----> 2\u001b[0;31m \u001b[0mimages\u001b[0m \u001b[0;34m=\u001b[0m \u001b[0mnp\u001b[0m\u001b[0;34m.\u001b[0m\u001b[0mconcatenate\u001b[0m\u001b[0;34m(\u001b[0m\u001b[0;34m(\u001b[0m\u001b[0mrock\u001b[0m\u001b[0;34m,\u001b[0m\u001b[0mpaper\u001b[0m\u001b[0;34m,\u001b[0m\u001b[0mscissors\u001b[0m\u001b[0;34m)\u001b[0m\u001b[0;34m,\u001b[0m \u001b[0maxis\u001b[0m \u001b[0;34m=\u001b[0m \u001b[0;36m0\u001b[0m\u001b[0;34m)\u001b[0m\u001b[0;34m\u001b[0m\u001b[0;34m\u001b[0m\u001b[0m\n\u001b[0m",
            "\u001b[0;32m/usr/local/lib/python3.9/dist-packages/numpy/core/overrides.py\u001b[0m in \u001b[0;36mconcatenate\u001b[0;34m(*args, **kwargs)\u001b[0m\n",
            "\u001b[0;31mValueError\u001b[0m: all the input arrays must have same number of dimensions, but the array at index 0 has 4 dimension(s) and the array at index 1 has 1 dimension(s)"
          ]
        }
      ]
    },
    {
      "cell_type": "code",
      "source": [
        "images"
      ],
      "metadata": {
        "colab": {
          "base_uri": "https://localhost:8080/"
        },
        "id": "EwjPF6uWztC9",
        "outputId": "110cefe1-7f14-460a-8e2f-4806294b88d6"
      },
      "execution_count": null,
      "outputs": [
        {
          "output_type": "execute_result",
          "data": {
            "text/plain": [
              "array([], dtype=float64)"
            ]
          },
          "metadata": {},
          "execution_count": 4
        }
      ]
    },
    {
      "cell_type": "markdown",
      "source": [
        "## VGGNet"
      ],
      "metadata": {
        "id": "9EEERNsffiAp"
      }
    },
    {
      "cell_type": "code",
      "source": [
        "import tensorflow as tf\n",
        "\n",
        "model = tf.keras.applications.VGG16(\n",
        "    include_top=True,\n",
        "    weights=\"imagenet\",\n",
        "    input_tensor=None,\n",
        "    input_shape=None,\n",
        "    pooling=None,\n",
        "    classes=1000,\n",
        "    classifier_activation=\"softmax\",\n",
        ")"
      ],
      "metadata": {
        "colab": {
          "base_uri": "https://localhost:8080/"
        },
        "id": "YkRC-Rq4fhrg",
        "outputId": "f2d77283-55d6-4318-f78c-5ccdeb0dfaee"
      },
      "execution_count": null,
      "outputs": [
        {
          "output_type": "stream",
          "name": "stdout",
          "text": [
            "Downloading data from https://storage.googleapis.com/tensorflow/keras-applications/vgg16/vgg16_weights_tf_dim_ordering_tf_kernels.h5\n",
            "553467096/553467096 [==============================] - 14s 0us/step\n"
          ]
        }
      ]
    },
    {
      "cell_type": "code",
      "source": [
        "summary = model.summary()"
      ],
      "metadata": {
        "colab": {
          "base_uri": "https://localhost:8080/"
        },
        "id": "Hsy5yU2hf5QX",
        "outputId": "112cec18-1be1-4b22-fb21-cc77b576e915"
      },
      "execution_count": null,
      "outputs": [
        {
          "output_type": "stream",
          "name": "stdout",
          "text": [
            "Model: \"vgg16\"\n",
            "_________________________________________________________________\n",
            " Layer (type)                Output Shape              Param #   \n",
            "=================================================================\n",
            " input_1 (InputLayer)        [(None, 224, 224, 3)]     0         \n",
            "                                                                 \n",
            " block1_conv1 (Conv2D)       (None, 224, 224, 64)      1792      \n",
            "                                                                 \n",
            " block1_conv2 (Conv2D)       (None, 224, 224, 64)      36928     \n",
            "                                                                 \n",
            " block1_pool (MaxPooling2D)  (None, 112, 112, 64)      0         \n",
            "                                                                 \n",
            " block2_conv1 (Conv2D)       (None, 112, 112, 128)     73856     \n",
            "                                                                 \n",
            " block2_conv2 (Conv2D)       (None, 112, 112, 128)     147584    \n",
            "                                                                 \n",
            " block2_pool (MaxPooling2D)  (None, 56, 56, 128)       0         \n",
            "                                                                 \n",
            " block3_conv1 (Conv2D)       (None, 56, 56, 256)       295168    \n",
            "                                                                 \n",
            " block3_conv2 (Conv2D)       (None, 56, 56, 256)       590080    \n",
            "                                                                 \n",
            " block3_conv3 (Conv2D)       (None, 56, 56, 256)       590080    \n",
            "                                                                 \n",
            " block3_pool (MaxPooling2D)  (None, 28, 28, 256)       0         \n",
            "                                                                 \n",
            " block4_conv1 (Conv2D)       (None, 28, 28, 512)       1180160   \n",
            "                                                                 \n",
            " block4_conv2 (Conv2D)       (None, 28, 28, 512)       2359808   \n",
            "                                                                 \n",
            " block4_conv3 (Conv2D)       (None, 28, 28, 512)       2359808   \n",
            "                                                                 \n",
            " block4_pool (MaxPooling2D)  (None, 14, 14, 512)       0         \n",
            "                                                                 \n",
            " block5_conv1 (Conv2D)       (None, 14, 14, 512)       2359808   \n",
            "                                                                 \n",
            " block5_conv2 (Conv2D)       (None, 14, 14, 512)       2359808   \n",
            "                                                                 \n",
            " block5_conv3 (Conv2D)       (None, 14, 14, 512)       2359808   \n",
            "                                                                 \n",
            " block5_pool (MaxPooling2D)  (None, 7, 7, 512)         0         \n",
            "                                                                 \n",
            " flatten (Flatten)           (None, 25088)             0         \n",
            "                                                                 \n",
            " fc1 (Dense)                 (None, 4096)              102764544 \n",
            "                                                                 \n",
            " fc2 (Dense)                 (None, 4096)              16781312  \n",
            "                                                                 \n",
            " predictions (Dense)         (None, 1000)              4097000   \n",
            "                                                                 \n",
            "=================================================================\n",
            "Total params: 138,357,544\n",
            "Trainable params: 138,357,544\n",
            "Non-trainable params: 0\n",
            "_________________________________________________________________\n"
          ]
        }
      ]
    },
    {
      "cell_type": "code",
      "source": [
        "import numpy as np\n",
        "import pandas as pd\n",
        "\n",
        "labels = pd.get_dummies(pd.Series(np.array([1]*3 + [2]*4 + [3]*5))).to_numpy()\n",
        "labels"
      ],
      "metadata": {
        "colab": {
          "base_uri": "https://localhost:8080/"
        },
        "id": "xo14SlBekEKL",
        "outputId": "ea8f8e50-f6b7-45ad-f227-a87e4a9b2a92"
      },
      "execution_count": null,
      "outputs": [
        {
          "output_type": "execute_result",
          "data": {
            "text/plain": [
              "array([[1, 0, 0],\n",
              "       [1, 0, 0],\n",
              "       [1, 0, 0],\n",
              "       [0, 1, 0],\n",
              "       [0, 1, 0],\n",
              "       [0, 1, 0],\n",
              "       [0, 1, 0],\n",
              "       [0, 0, 1],\n",
              "       [0, 0, 1],\n",
              "       [0, 0, 1],\n",
              "       [0, 0, 1],\n",
              "       [0, 0, 1]], dtype=uint8)"
            ]
          },
          "metadata": {},
          "execution_count": 33
        }
      ]
    },
    {
      "cell_type": "code",
      "source": [
        "import tensorflow as tf"
      ],
      "metadata": {
        "id": "9JBUnyfPkIEj"
      },
      "execution_count": null,
      "outputs": []
    },
    {
      "cell_type": "code",
      "source": [
        "from tensorflow.keras import layers"
      ],
      "metadata": {
        "id": "1_3yxmC6bAY5"
      },
      "execution_count": null,
      "outputs": []
    },
    {
      "cell_type": "code",
      "source": [],
      "metadata": {
        "id": "61HzWeJXbJfw"
      },
      "execution_count": null,
      "outputs": []
    }
  ]
}